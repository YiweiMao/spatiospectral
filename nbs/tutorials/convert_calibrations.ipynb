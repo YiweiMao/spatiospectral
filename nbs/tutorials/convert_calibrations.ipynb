{
 "cells": [
  {
   "cell_type": "raw",
   "metadata": {},
   "source": [
    "---\n",
    "description: Tutorial on how to convert old pickle calibration file (.pkl, <=v0.3.2) to new netcdf based calibration file (.nc, >=v4.0.0).\n",
    "title: Convert .pkl calibration to new .nc format\n",
    "\n",
    "---\n",
    "\n"
   ]
  },
  {
   "cell_type": "markdown",
   "metadata": {},
   "source": [
    "## What happened?\n",
    "The new NetCDF (NC) format for calibration files addresses the fragile portability of PLK files. Changes in dependencies like xarray and NumPy often render PLK files usable only with the exact package versions they were created with. The new format eliminates this dependency issue by adopting a universal, self-contained structure, ensuring broader compatibility across different environments.\n",
    "\n",
    "The change has been introduced in version 0.4.0 of openhsi. For now .pkl calibration are supported for backward comptability, but are converetd to .nc by default. A future version may remove this.\n",
    "\n",
    "## How to Convert\n",
    "### Setup A Clean Enviroment\n",
    "The easiest way to convert an existing calibration file is to upgrade OpenHSI to version 0.4.0 in a working environment. When you first load the PKL file, it will automatically be converted to the NC format (unless you ask OpenHSI not too).\n",
    "\n",
    "If starting in a fresh environment, first install OpenHSI version 0.3.2 along with its dependencies. Then, upgrade to OpenHSI version 0.4.0 without installing additional dependencies.\n",
    "\n",
    "An example of doing this on Google Colab is avalaible below, but similar actions in a clean python enviroment should also work.\n",
    "\n",
    "#### Google Colab is a simple way to make the conversion"
   ]
  },
  {
   "cell_type": "markdown",
   "metadata": {},
   "source": [
    "\n",
    "```python\n",
    "!pip install openhsi==0.3.2\n",
    "!pip install openhsi==0.4.0 --no-deps\n",
    "\n",
    "from openhsi.data import CameraProperties\n",
    "with CameraProperties(cal_path='cam_calibration.pkl') as cam:\n",
    "  pass\n",
    "```"
   ]
  },
  {
   "cell_type": "markdown",
   "metadata": {},
   "source": []
  }
 ],
 "metadata": {
  "kernelspec": {
   "display_name": "python3",
   "language": "python",
   "name": "python3"
  }
 },
 "nbformat": 4,
 "nbformat_minor": 4
}
