{
 "cells": [
  {
   "cell_type": "raw",
   "metadata": {},
   "source": [
    "---\n",
    "description: Edit your NetCDF file's metadata\n",
    "output-file: metadata.html\n",
    "title: metadata\n",
    "\n",
    "---\n",
    "\n"
   ]
  },
  {
   "cell_type": "code",
   "execution_count": null,
   "metadata": {},
   "outputs": [],
   "source": [
    "#| default_exp metadata"
   ]
  },
  {
   "cell_type": "markdown",
   "metadata": {},
   "source": [
    "# Metadata Editor"
   ]
  },
  {
   "cell_type": "markdown",
   "metadata": {},
   "source": [
    "\n",
    ":::{.callout-tip}\n",
    "\n",
    "This module can be imported using `from openhsi.metadata import *`\n",
    "\n",
    ":::\n",
    "\n",
    "\n",
    "\"As metadata are shared between National and International repositories, it is becoming increasing important to be able to unambiguously identify and refer to specific records. This is facilitated by including an identifier in the metadata. Some mechanism must exist for ensuring that these identifiers are unique. This is accomplished by specifying the naming authority or namespace for the identifier. It is the responsibility of the manager of the namespace to ensure that the identifiers in that namespace are unique. Identifying the Metadata Convention being used in the file and providing a link to more complete metadata, possibly using a different convention, are also important.\"\n",
    "\n",
    "https://wiki.esipfed.org/Attribute_Convention_for_Data_Discovery_1-3\n"
   ]
  },
  {
   "cell_type": "code",
   "execution_count": null,
   "metadata": {},
   "outputs": [],
   "source": [
    "#| hide\n",
    "\n",
    "# documentation extraction for class methods\n",
    "from nbdev.showdoc import *\n",
    "\n",
    "# unit tests using test_eq(...)\n",
    "from fastcore.test import *\n",
    "\n",
    "# monkey patching class methods using @patch\n",
    "from fastcore.foundation import *\n",
    "from fastcore.foundation import patch\n",
    "\n",
    "# bring forth **kwargs from an inherited class for documentation\n",
    "from fastcore.meta import delegates"
   ]
  },
  {
   "cell_type": "code",
   "execution_count": null,
   "metadata": {},
   "outputs": [],
   "source": [
    "#| export\n",
    "\n",
    "from fastcore.foundation import patch\n",
    "from fastcore.meta import delegates\n",
    "import xarray as xr\n",
    "import numpy as np\n",
    "import matplotlib.pyplot as plt\n",
    "import pandas as pd\n",
    "from scipy.interpolate import interp1d\n",
    "from PIL import Image\n",
    "from tqdm import tqdm\n",
    "import warnings\n",
    "\n",
    "from typing import Iterable, Union, Callable, List, TypeVar, Generic, Tuple, Optional\n",
    "import json\n",
    "import pickle\n",
    "from pathlib import Path"
   ]
  },
  {
   "cell_type": "code",
   "execution_count": null,
   "metadata": {},
   "outputs": [
    {
     "data": {
      "application/javascript": "(function(root) {\n  function now() {\n    return new Date();\n  }\n\n  var force = true;\n\n  if (typeof root._bokeh_onload_callbacks === \"undefined\" || force === true) {\n    root._bokeh_onload_callbacks = [];\n    root._bokeh_is_loading = undefined;\n  }\n\n  if (typeof (root._bokeh_timeout) === \"undefined\" || force === true) {\n    root._bokeh_timeout = Date.now() + 5000;\n    root._bokeh_failed_load = false;\n  }\n\n  function run_callbacks() {\n    try {\n      root._bokeh_onload_callbacks.forEach(function(callback) {\n        if (callback != null)\n          callback();\n      });\n    } finally {\n      delete root._bokeh_onload_callbacks\n    }\n    console.debug(\"Bokeh: all callbacks have finished\");\n  }\n\n  function load_libs(css_urls, js_urls, js_modules, callback) {\n    if (css_urls == null) css_urls = [];\n    if (js_urls == null) js_urls = [];\n    if (js_modules == null) js_modules = [];\n\n    root._bokeh_onload_callbacks.push(callback);\n    if (root._bokeh_is_loading > 0) {\n      console.debug(\"Bokeh: BokehJS is being loaded, scheduling callback at\", now());\n      return null;\n    }\n    if (js_urls.length === 0 && js_modules.length === 0) {\n      run_callbacks();\n      return null;\n    }\n    console.debug(\"Bokeh: BokehJS not loaded, scheduling load and callback at\", now());\n\n    function on_load() {\n      root._bokeh_is_loading--;\n      if (root._bokeh_is_loading === 0) {\n        console.debug(\"Bokeh: all BokehJS libraries/stylesheets loaded\");\n        run_callbacks()\n      }\n    }\n\n    function on_error() {\n      console.error(\"failed to load \" + url);\n    }\n\n    for (var i = 0; i < css_urls.length; i++) {\n      var url = css_urls[i];\n      const element = document.createElement(\"link\");\n      element.onload = on_load;\n      element.onerror = on_error;\n      element.rel = \"stylesheet\";\n      element.type = \"text/css\";\n      element.href = url;\n      console.debug(\"Bokeh: injecting link tag for BokehJS stylesheet: \", url);\n      document.body.appendChild(element);\n    }\n\n    var skip = [];\n    if (window.requirejs) {\n      window.requirejs.config({'packages': {}, 'paths': {'gridstack': 'https://cdn.jsdelivr.net/npm/gridstack@4.2.5/dist/gridstack-h5', 'notyf': 'https://cdn.jsdelivr.net/npm/notyf@3/notyf.min'}, 'shim': {'gridstack': {'exports': 'GridStack'}}});\n      require([\"gridstack\"], function(GridStack) {\n\twindow.GridStack = GridStack\n\ton_load()\n      })\n      require([\"notyf\"], function() {\n\ton_load()\n      })\n      root._bokeh_is_loading = css_urls.length + 2;\n    } else {\n      root._bokeh_is_loading = css_urls.length + js_urls.length + js_modules.length;\n    }    if (((window['GridStack'] !== undefined) && (!(window['GridStack'] instanceof HTMLElement))) || window.requirejs) {\n      var urls = ['https://cdn.jsdelivr.net/npm/gridstack@4.2.5/dist/gridstack-h5.js'];\n      for (var i = 0; i < urls.length; i++) {\n        skip.push(urls[i])\n      }\n    }    if (((window['Notyf'] !== undefined) && (!(window['Notyf'] instanceof HTMLElement))) || window.requirejs) {\n      var urls = ['https://cdn.jsdelivr.net/npm/notyf@3/notyf.min.js'];\n      for (var i = 0; i < urls.length; i++) {\n        skip.push(urls[i])\n      }\n    }    for (var i = 0; i < js_urls.length; i++) {\n      var url = js_urls[i];\n      if (skip.indexOf(url) >= 0) {\n\tif (!window.requirejs) {\n\t  on_load();\n\t}\n\tcontinue;\n      }\n      var element = document.createElement('script');\n      element.onload = on_load;\n      element.onerror = on_error;\n      element.async = false;\n      element.src = url;\n      console.debug(\"Bokeh: injecting script tag for BokehJS library: \", url);\n      document.head.appendChild(element);\n    }\n    for (var i = 0; i < js_modules.length; i++) {\n      var url = js_modules[i];\n      if (skip.indexOf(url) >= 0) {\n\tif (!window.requirejs) {\n\t  on_load();\n\t}\n\tcontinue;\n      }\n      var element = document.createElement('script');\n      element.onload = on_load;\n      element.onerror = on_error;\n      element.async = false;\n      element.src = url;\n      element.type = \"module\";\n      console.debug(\"Bokeh: injecting script tag for BokehJS library: \", url);\n      document.head.appendChild(element);\n    }\n    if (!js_urls.length && !js_modules.length) {\n      on_load()\n    }\n  };\n\n  function inject_raw_css(css) {\n    const element = document.createElement(\"style\");\n    element.appendChild(document.createTextNode(css));\n    document.body.appendChild(element);\n  }\n\n  var js_urls = [\"https://cdn.bokeh.org/bokeh/release/bokeh-2.4.3.min.js\", \"https://cdn.bokeh.org/bokeh/release/bokeh-gl-2.4.3.min.js\", \"https://cdn.bokeh.org/bokeh/release/bokeh-widgets-2.4.3.min.js\", \"https://cdn.bokeh.org/bokeh/release/bokeh-tables-2.4.3.min.js\", \"https://cdn.bokeh.org/bokeh/release/bokeh-mathjax-2.4.3.min.js\", \"https://cdn.jsdelivr.net/npm/notyf@3/notyf.min.js\", \"https://unpkg.com/@holoviz/panel@0.13.1/dist/panel.min.js\"];\n  var js_modules = [];\n  var css_urls = [\"https://cdn.jsdelivr.net/npm/notyf@3/notyf.min.css\", \"https://cdnjs.cloudflare.com/ajax/libs/font-awesome/5.15.1/css/all.min.css\", \"https://unpkg.com/@holoviz/panel@0.13.1/dist/css/debugger.css\", \"https://unpkg.com/@holoviz/panel@0.13.1/dist/css/alerts.css\", \"https://unpkg.com/@holoviz/panel@0.13.1/dist/css/card.css\", \"https://unpkg.com/@holoviz/panel@0.13.1/dist/css/widgets.css\", \"https://unpkg.com/@holoviz/panel@0.13.1/dist/css/markdown.css\", \"https://unpkg.com/@holoviz/panel@0.13.1/dist/css/json.css\", \"https://unpkg.com/@holoviz/panel@0.13.1/dist/css/loading.css\", \"https://unpkg.com/@holoviz/panel@0.13.1/dist/css/dataframe.css\"];\n  var inline_js = [    function(Bokeh) {\n      inject_raw_css(\"\\n    .bk.pn-loading.arcs:before {\\n      background-image: url(\\\"data:image/svg+xml;base64,PHN2ZyB4bWxucz0iaHR0cDovL3d3dy53My5vcmcvMjAwMC9zdmciIHhtbG5zOnhsaW5rPSJodHRwOi8vd3d3LnczLm9yZy8xOTk5L3hsaW5rIiBzdHlsZT0ibWFyZ2luOiBhdXRvOyBiYWNrZ3JvdW5kOiBub25lOyBkaXNwbGF5OiBibG9jazsgc2hhcGUtcmVuZGVyaW5nOiBhdXRvOyIgdmlld0JveD0iMCAwIDEwMCAxMDAiIHByZXNlcnZlQXNwZWN0UmF0aW89InhNaWRZTWlkIj4gIDxjaXJjbGUgY3g9IjUwIiBjeT0iNTAiIHI9IjMyIiBzdHJva2Utd2lkdGg9IjgiIHN0cm9rZT0iI2MzYzNjMyIgc3Ryb2tlLWRhc2hhcnJheT0iNTAuMjY1NDgyNDU3NDM2NjkgNTAuMjY1NDgyNDU3NDM2NjkiIGZpbGw9Im5vbmUiIHN0cm9rZS1saW5lY2FwPSJyb3VuZCI+ICAgIDxhbmltYXRlVHJhbnNmb3JtIGF0dHJpYnV0ZU5hbWU9InRyYW5zZm9ybSIgdHlwZT0icm90YXRlIiByZXBlYXRDb3VudD0iaW5kZWZpbml0ZSIgZHVyPSIxcyIga2V5VGltZXM9IjA7MSIgdmFsdWVzPSIwIDUwIDUwOzM2MCA1MCA1MCI+PC9hbmltYXRlVHJhbnNmb3JtPiAgPC9jaXJjbGU+PC9zdmc+\\\");\\n      background-size: auto calc(min(50%, 400px));\\n    }\\n    \");\n    },    function(Bokeh) {\n      Bokeh.set_log_level(\"info\");\n    },\nfunction(Bokeh) {} // ensure no trailing comma for IE\n  ];\n\n  function run_inline_js() {\n    if ((root.Bokeh !== undefined) || (force === true)) {\n      for (var i = 0; i < inline_js.length; i++) {\n        inline_js[i].call(root, root.Bokeh);\n      }} else if (Date.now() < root._bokeh_timeout) {\n      setTimeout(run_inline_js, 100);\n    } else if (!root._bokeh_failed_load) {\n      console.log(\"Bokeh: BokehJS failed to load within specified timeout.\");\n      root._bokeh_failed_load = true;\n    }\n  }\n\n  if (root._bokeh_is_loading === 0) {\n    console.debug(\"Bokeh: BokehJS loaded, going straight to plotting\");\n    run_inline_js();\n  } else {\n    load_libs(css_urls, js_urls, js_modules, function() {\n      console.debug(\"Bokeh: BokehJS plotting callback run at\", now());\n      run_inline_js();\n    });\n  }\n}(window));",
      "application/vnd.holoviews_load.v0+json": ""
     },
     "metadata": {},
     "output_type": "display_data"
    },
    {
     "data": {
      "application/javascript": "\nif ((window.PyViz === undefined) || (window.PyViz instanceof HTMLElement)) {\n  window.PyViz = {comms: {}, comm_status:{}, kernels:{}, receivers: {}, plot_index: []}\n}\n\n\n    function JupyterCommManager() {\n    }\n\n    JupyterCommManager.prototype.register_target = function(plot_id, comm_id, msg_handler) {\n      if (window.comm_manager || ((window.Jupyter !== undefined) && (Jupyter.notebook.kernel != null))) {\n        var comm_manager = window.comm_manager || Jupyter.notebook.kernel.comm_manager;\n        comm_manager.register_target(comm_id, function(comm) {\n          comm.on_msg(msg_handler);\n        });\n      } else if ((plot_id in window.PyViz.kernels) && (window.PyViz.kernels[plot_id])) {\n        window.PyViz.kernels[plot_id].registerCommTarget(comm_id, function(comm) {\n          comm.onMsg = msg_handler;\n        });\n      } else if (typeof google != 'undefined' && google.colab.kernel != null) {\n        google.colab.kernel.comms.registerTarget(comm_id, (comm) => {\n          var messages = comm.messages[Symbol.asyncIterator]();\n          function processIteratorResult(result) {\n            var message = result.value;\n            console.log(message)\n            var content = {data: message.data, comm_id};\n            var buffers = []\n            for (var buffer of message.buffers || []) {\n              buffers.push(new DataView(buffer))\n            }\n            var metadata = message.metadata || {};\n            var msg = {content, buffers, metadata}\n            msg_handler(msg);\n            return messages.next().then(processIteratorResult);\n          }\n          return messages.next().then(processIteratorResult);\n        })\n      }\n    }\n\n    JupyterCommManager.prototype.get_client_comm = function(plot_id, comm_id, msg_handler) {\n      if (comm_id in window.PyViz.comms) {\n        return window.PyViz.comms[comm_id];\n      } else if (window.comm_manager || ((window.Jupyter !== undefined) && (Jupyter.notebook.kernel != null))) {\n        var comm_manager = window.comm_manager || Jupyter.notebook.kernel.comm_manager;\n        var comm = comm_manager.new_comm(comm_id, {}, {}, {}, comm_id);\n        if (msg_handler) {\n          comm.on_msg(msg_handler);\n        }\n      } else if ((plot_id in window.PyViz.kernels) && (window.PyViz.kernels[plot_id])) {\n        var comm = window.PyViz.kernels[plot_id].connectToComm(comm_id);\n        comm.open();\n        if (msg_handler) {\n          comm.onMsg = msg_handler;\n        }\n      } else if (typeof google != 'undefined' && google.colab.kernel != null) {\n        var comm_promise = google.colab.kernel.comms.open(comm_id)\n        comm_promise.then((comm) => {\n          window.PyViz.comms[comm_id] = comm;\n          if (msg_handler) {\n            var messages = comm.messages[Symbol.asyncIterator]();\n            function processIteratorResult(result) {\n              var message = result.value;\n              var content = {data: message.data};\n              var metadata = message.metadata || {comm_id};\n              var msg = {content, metadata}\n              msg_handler(msg);\n              return messages.next().then(processIteratorResult);\n            }\n            return messages.next().then(processIteratorResult);\n          }\n        }) \n        var sendClosure = (data, metadata, buffers, disposeOnDone) => {\n          return comm_promise.then((comm) => {\n            comm.send(data, metadata, buffers, disposeOnDone);\n          });\n        };\n        var comm = {\n          send: sendClosure\n        };\n      }\n      window.PyViz.comms[comm_id] = comm;\n      return comm;\n    }\n    window.PyViz.comm_manager = new JupyterCommManager();\n    \n\n\nvar JS_MIME_TYPE = 'application/javascript';\nvar HTML_MIME_TYPE = 'text/html';\nvar EXEC_MIME_TYPE = 'application/vnd.holoviews_exec.v0+json';\nvar CLASS_NAME = 'output';\n\n/**\n * Render data to the DOM node\n */\nfunction render(props, node) {\n  var div = document.createElement(\"div\");\n  var script = document.createElement(\"script\");\n  node.appendChild(div);\n  node.appendChild(script);\n}\n\n/**\n * Handle when a new output is added\n */\nfunction handle_add_output(event, handle) {\n  var output_area = handle.output_area;\n  var output = handle.output;\n  if ((output.data == undefined) || (!output.data.hasOwnProperty(EXEC_MIME_TYPE))) {\n    return\n  }\n  var id = output.metadata[EXEC_MIME_TYPE][\"id\"];\n  var toinsert = output_area.element.find(\".\" + CLASS_NAME.split(' ')[0]);\n  if (id !== undefined) {\n    var nchildren = toinsert.length;\n    var html_node = toinsert[nchildren-1].children[0];\n    html_node.innerHTML = output.data[HTML_MIME_TYPE];\n    var scripts = [];\n    var nodelist = html_node.querySelectorAll(\"script\");\n    for (var i in nodelist) {\n      if (nodelist.hasOwnProperty(i)) {\n        scripts.push(nodelist[i])\n      }\n    }\n\n    scripts.forEach( function (oldScript) {\n      var newScript = document.createElement(\"script\");\n      var attrs = [];\n      var nodemap = oldScript.attributes;\n      for (var j in nodemap) {\n        if (nodemap.hasOwnProperty(j)) {\n          attrs.push(nodemap[j])\n        }\n      }\n      attrs.forEach(function(attr) { newScript.setAttribute(attr.name, attr.value) });\n      newScript.appendChild(document.createTextNode(oldScript.innerHTML));\n      oldScript.parentNode.replaceChild(newScript, oldScript);\n    });\n    if (JS_MIME_TYPE in output.data) {\n      toinsert[nchildren-1].children[1].textContent = output.data[JS_MIME_TYPE];\n    }\n    output_area._hv_plot_id = id;\n    if ((window.Bokeh !== undefined) && (id in Bokeh.index)) {\n      window.PyViz.plot_index[id] = Bokeh.index[id];\n    } else {\n      window.PyViz.plot_index[id] = null;\n    }\n  } else if (output.metadata[EXEC_MIME_TYPE][\"server_id\"] !== undefined) {\n    var bk_div = document.createElement(\"div\");\n    bk_div.innerHTML = output.data[HTML_MIME_TYPE];\n    var script_attrs = bk_div.children[0].attributes;\n    for (var i = 0; i < script_attrs.length; i++) {\n      toinsert[toinsert.length - 1].childNodes[1].setAttribute(script_attrs[i].name, script_attrs[i].value);\n    }\n    // store reference to server id on output_area\n    output_area._bokeh_server_id = output.metadata[EXEC_MIME_TYPE][\"server_id\"];\n  }\n}\n\n/**\n * Handle when an output is cleared or removed\n */\nfunction handle_clear_output(event, handle) {\n  var id = handle.cell.output_area._hv_plot_id;\n  var server_id = handle.cell.output_area._bokeh_server_id;\n  if (((id === undefined) || !(id in PyViz.plot_index)) && (server_id !== undefined)) { return; }\n  var comm = window.PyViz.comm_manager.get_client_comm(\"hv-extension-comm\", \"hv-extension-comm\", function () {});\n  if (server_id !== null) {\n    comm.send({event_type: 'server_delete', 'id': server_id});\n    return;\n  } else if (comm !== null) {\n    comm.send({event_type: 'delete', 'id': id});\n  }\n  delete PyViz.plot_index[id];\n  if ((window.Bokeh !== undefined) & (id in window.Bokeh.index)) {\n    var doc = window.Bokeh.index[id].model.document\n    doc.clear();\n    const i = window.Bokeh.documents.indexOf(doc);\n    if (i > -1) {\n      window.Bokeh.documents.splice(i, 1);\n    }\n  }\n}\n\n/**\n * Handle kernel restart event\n */\nfunction handle_kernel_cleanup(event, handle) {\n  delete PyViz.comms[\"hv-extension-comm\"];\n  window.PyViz.plot_index = {}\n}\n\n/**\n * Handle update_display_data messages\n */\nfunction handle_update_output(event, handle) {\n  handle_clear_output(event, {cell: {output_area: handle.output_area}})\n  handle_add_output(event, handle)\n}\n\nfunction register_renderer(events, OutputArea) {\n  function append_mime(data, metadata, element) {\n    // create a DOM node to render to\n    var toinsert = this.create_output_subarea(\n    metadata,\n    CLASS_NAME,\n    EXEC_MIME_TYPE\n    );\n    this.keyboard_manager.register_events(toinsert);\n    // Render to node\n    var props = {data: data, metadata: metadata[EXEC_MIME_TYPE]};\n    render(props, toinsert[0]);\n    element.append(toinsert);\n    return toinsert\n  }\n\n  events.on('output_added.OutputArea', handle_add_output);\n  events.on('output_updated.OutputArea', handle_update_output);\n  events.on('clear_output.CodeCell', handle_clear_output);\n  events.on('delete.Cell', handle_clear_output);\n  events.on('kernel_ready.Kernel', handle_kernel_cleanup);\n\n  OutputArea.prototype.register_mime_type(EXEC_MIME_TYPE, append_mime, {\n    safe: true,\n    index: 0\n  });\n}\n\nif (window.Jupyter !== undefined) {\n  try {\n    var events = require('base/js/events');\n    var OutputArea = require('notebook/js/outputarea').OutputArea;\n    if (OutputArea.prototype.mime_types().indexOf(EXEC_MIME_TYPE) == -1) {\n      register_renderer(events, OutputArea);\n    }\n  } catch(err) {\n  }\n}\n",
      "application/vnd.holoviews_load.v0+json": ""
     },
     "metadata": {},
     "output_type": "display_data"
    },
    {
     "data": {
      "text/html": [
       "<style>.bk-root, .bk-root .bk:before, .bk-root .bk:after {\n",
       "  font-family: var(--jp-ui-font-size1);\n",
       "  font-size: var(--jp-ui-font-size1);\n",
       "  color: var(--jp-ui-font-color1);\n",
       "}\n",
       "</style>"
      ]
     },
     "metadata": {},
     "output_type": "display_data"
    }
   ],
   "source": [
    "#| export \n",
    "\n",
    "import panel as pn\n",
    "import panel.widgets as pnw\n",
    "pn.extension()\n",
    "from datetime import datetime"
   ]
  },
  {
   "cell_type": "markdown",
   "metadata": {},
   "source": [
    "\"As metadata are shared between National and International repositories, it is becoming increasing important to be able to unambiguously identify and refer to specific records. This is facilitated by including an identifier in the metadata. Some mechanism must exist for ensuring that these identifiers are unique. This is accomplished by specifying the naming authority or namespace for the identifier. It is the responsibility of the manager of the namespace to ensure that the identifiers in that namespace are unique. Identifying the Metadata Convention being used in the file and providing a link to more complete metadata, possibly using a different convention, are also important.\"\n",
    "\n",
    "https://wiki.esipfed.org/Attribute_Convention_for_Data_Discovery_1-3"
   ]
  },
  {
   "cell_type": "code",
   "execution_count": null,
   "metadata": {},
   "outputs": [],
   "source": [
    "#| export\n",
    "\n",
    "identity_fields = [{\"Conventions\":\"Dataset conventions. E.g. CF-1.6, ISO 19115-2, COARDS\",},\n",
    "                   {\"id\":\"Globally unique identifier for the dataset\",\n",
    "                    \"naming_authority\":\"The organization that provides the initial id\"},\n",
    "                   {\"metadata_link\":\"Link to a complete metadata record (or collection)\"}]\n",
    "text_search_fields = [{\"title\":\"A short description of the dataset\",\n",
    "                       \"summary\":\"A paragraph describing the dataset\",\n",
    "                       \"keywords\":\"A comma separated list of key words and phrases\"},\n",
    "                      {\"standard_name_vocabulary\":\"The name of the controlled vocabulary from which variable standard names are taken\",\n",
    "                       \"history\":\"Provides an audit trail for modifications to the original data\",\n",
    "                       \"comment\":\"Miscellaneous information about the data.\"},\n",
    "                      {\"keywords_vocabulary\":\"Unique name or identifier of vocabulary from which keywords are taken. E.g. CF:NetCDF COARDS Climate and Forecast Standard Names\"}]\n",
    "extent_search_fields = [{},{\"geospatial_lat_min\":\"Minimum latitude\",\n",
    "                            \"geospatial_lat_max\":\"Maximum latitude\",\n",
    "                            \"geospatial_lon_min\":\"Minimum longitude\",\n",
    "                            \"geospatial_lon_max\":\"Maximum longitude\",\n",
    "                            \"time_coverage_start\":\"Time of first data point using the ISO 8601:2004 date format YYYY-MM-DDThh:mm:ss<zone>\",\n",
    "                            \"time_coverage_end\":\"Time of last data point using the ISO 8601:2004 date format YYYY-MM-DDThh:mm:ss<zone>\",\n",
    "                            \"geospatial_vertical_min\":\"Minimum altitude\",\n",
    "                            \"geospatial_vertical_max\":\"Maximum altitude\"},{}]\n",
    "other_extent_fields = [{},{\"geospatial_bounds\":\"The north, south, east, west bouding box\",\n",
    "                          \"geospatial_bounds_crs\":\"The coordinate reference system (CRS) of the point coordinates geospatial_bounds\",\n",
    "                          \"geospatial_bounds_vertical_crs\":\"The vertical coordinate reference system (CRS) for the Z axis\",\n",
    "                          \"time_coverage_duration\":\"Duration of the dataset in ISO 8601:2004 duration format P[YYYY]-[MM]-[DD]T[hh]:[mm]:[ss]\",\n",
    "                          \"time_coverage_resolution\":\"Time period between each datapoint in ISO 8601:2004 duration format P[YYYY]-[MM]-[DD]T[hh]:[mm]:[ss]\"},\n",
    "                       {\"geospatial_lon_units\":\"Units for the longitude axis usually presumed to be degree_east\",\n",
    "                       \"geospatial_lon_resolution\":\"Spacing of points in longitude with units specified\",\n",
    "                       \"geospatial_lat_units\":\"Units for the longitude axis usually presumed to be degree_north\",\n",
    "                       \"geospatial_lat_resolution\":\"Spacing of points in latitude with units specified\",\n",
    "                       \"geospatial_vertical_units\":\"Units for the vertical axis E.g. EPSG:4979\",\n",
    "                       \"geospatial_vertical_resolution\":\"Certical spacing of points with units specified\",\n",
    "                       \"geospatial_vertical_positive\":\"Choose 'up' or 'down'\"}]\n",
    "creator_search_fields = [{},{\"acknowledgment\":\"acknowledge various type of support for the project that produced this data\",\n",
    "                            \"creator_name\":\"Enter a string here...\",\n",
    "                            \"creator_url\":\"Enter a string here...\",\n",
    "                            \"creator_email\":\"Enter a string here...\",\n",
    "                            \"institution\":\"Enter a string here...\",\n",
    "                            \"date_created\":\"The date on which the data was created\",\n",
    "                            \"project\":\"The scientific project that produced the data\"},\n",
    "                         {\"creator_institution\":\"Enter a string here...\",\n",
    "                         \"creator_type\":\"Choose 'person', 'group', 'institution', or 'position'\",\n",
    "                         \"date_modified\":\"The date on which this data was last modified\",\n",
    "                         \"date_metadata_modified\":\"The date on which this metadata was last modified\",\n",
    "                         \"date_issued\":\"The date on which this data was formally issued\"}]\n",
    "contributor_search_fields = [{},{},{\"contributor_name\":\"Enter a string here...\",\"contributor_role\":\"Enter a string here...\"}]\n",
    "publisher_search_fields = [{},{\"publisher_name\":\"The data publisher's name. Can be an individual or an institution\",\n",
    "                              \"publisher_url\":\"The data publisher's URL. Can be an individual or an institution\",\n",
    "                              \"publisher_email\":\"The data publisher's email. Can be an individual or an institution\"},\n",
    "                           {\"publisher_type\":\"Choose 'person', 'group', 'institution', or 'position'\",\n",
    "                           \"publisher_institution\":\"Email address of those responsible for publishing the data, with its current metadata and format\"}]\n",
    "other_fields = [{},{\"processing_level\":\"A textual description of the processing (or quality control) level of the data\",\n",
    "                   \"license\":\"Describe the restrictions to data access and distribution\",\n",
    "                   \"source\":\"The method of production of the original data. E.g. model-generated\"},\n",
    "                {\"cdm_data_type\":\"Dataset datatype\",\n",
    "                \"instrument\":\"Name of the contributing instrument(s) or sensor(s) used to create this data set or product\",\n",
    "                \"instrument_vocabulary\":\"Controlled vocabulary for the names used in the `instrument` attribute\",\n",
    "                \"platform\":\"Name of the platform(s) E.g. satellite, ship, station, aircraft\",\n",
    "                \"product_version\":\"Version identifier of the data file or product as assigned by the data creator\",\n",
    "                \"program\":\"The overarching program(s) of which the dataset is a part\",\n",
    "                \"references\":\"Published or web-based references that describe the data or methods used to produce it\"}]\n",
    "instrument_fields = [{},{},{\"camera_exposure_time\":\"Exposure time for each camera frame in ms\",\n",
    "                           \"camera_gain\":\"Gain used for the camera\",\n",
    "                           \"camera_row_slice\":\"Which rows are extracted from each camera frame\",\n",
    "                           \"camera_fwhm\":\"Full Width Half Maximum for spectral bands\"}]\n"
   ]
  },
  {
   "cell_type": "code",
   "execution_count": null,
   "metadata": {},
   "outputs": [],
   "source": [
    "#| export\n",
    "\n",
    "def build_section_widgets(section_name:str = \"\", fields:List[dict] = [{}], cols:int = 3):\n",
    "    \"\"\"Construct text input widgets and place them into `cols` columns\"\"\"\n",
    "    wgts_layout = [] \n",
    "    wgts = []\n",
    "    for i in range(len(fields)):\n",
    "        temp = []  \n",
    "        for key, val in fields[i].items():\n",
    "            wgt = pnw.input.TextAreaInput(name=key, placeholder=val, value = None)\n",
    "            temp.append( wgt )\n",
    "            wgts.append( wgt )\n",
    "            \n",
    "        if   i == 0 and len(fields[i]) > 0:\n",
    "            wgts_layout.append( pn.Column(pn.pane.Markdown(\"*Highly Recommended:*\"), pn.Row(*temp) ) )\n",
    "        elif i == 1 and len(fields[i]) > 0:\n",
    "            wgts_layout.append( pn.Column(pn.pane.Markdown(\"*Recommended:*\"), pn.GridBox(*temp,ncols=cols) ) )\n",
    "        elif i == 2 and len(fields[i]) > 0:\n",
    "            wgts_layout.append( pn.Column(pn.pane.Markdown(\"*Suggested:*\"), pn.GridBox(*temp,ncols=cols) ) )\n",
    "        \n",
    "    return pn.Column(*wgts_layout), wgts"
   ]
  },
  {
   "cell_type": "markdown",
   "metadata": {},
   "source": [
    "\n",
    "Standard name table\n",
    "https://cfconventions.org/Data/cf-standard-names/current/build/cf-standard-name-table.html\n"
   ]
  },
  {
   "cell_type": "code",
   "execution_count": null,
   "metadata": {},
   "outputs": [],
   "source": [
    "#| export\n",
    "\n",
    "def build_variables_widgets(ds:xr.Dataset, cols:int=3):\n",
    "    \"\"\"search inside NetCDF coordinates for metadata. Layout widgets with specified `cols`.\"\"\"\n",
    "    wgts_layout = [pn.pane.Markdown(f\"*Highly Recommended:*\")] \n",
    "    wgts = []\n",
    "    \n",
    "    coord_names = [ s.split(\"(\")[0].strip() for s in str(ds.coords).split(\"*\")[1:] ]\n",
    "    coord_names.append(\"datacube\")\n",
    "    for n in coord_names:\n",
    "        temp = []\n",
    "        if \"time\" not in n:\n",
    "            temp.append( pnw.input.TextAreaInput(name=\"units\", placeholder=\"Units for data variable\", value = ds[n].attrs.get(\"units\"),width=150) )\n",
    "            temp.append( pnw.input.TextAreaInput(name=\"coverage_content_type\", placeholder=\"ISO 19115-1 code (image, thematicClassification, physicalMeasurement, auxiliaryInformation, qualityInformation, referenceInformation, modelResult, or coordinate)\", value = ds[n].attrs.get(\"coverage_content_type\"),width=550) )\n",
    "        temp.append( pnw.input.TextAreaInput(name=\"long_name\", placeholder=\"Long descriptive name for the variable (not necessarily from a controlled vocabulary)\", value = ds[n].attrs.get(\"long_name\"),width=150) )\n",
    "        temp.append( pnw.input.TextAreaInput(name=\"standard_name\", placeholder=\"Long descriptive name for the variable taken from a controlled vocabulary of variable names\", value = ds[n].attrs.get(\"standard_name\")) )\n",
    "        wgts.extend(temp)\n",
    "        \n",
    "        wgts_layout.append( pn.Column(pn.pane.Markdown(f\"*{n}:*\"), pn.GridBox(*temp,ncols=cols) ) )\n",
    "    \n",
    "    return pn.Column(*wgts_layout), wgts\n",
    "\n"
   ]
  },
  {
   "cell_type": "code",
   "execution_count": null,
   "metadata": {},
   "outputs": [],
   "source": [
    "#| export\n",
    "\n",
    "class MetadataEditor():\n",
    "    \"\"\"Interactive ISO 19115-2 Metadata Editor\"\"\"\n",
    "    def __init__(self):\n",
    "        \"\"\"initialise all the widgets and button callbacks\"\"\"\n",
    "        self.event_msg = pnw.StaticText(name=\"\", value=\"\")\n",
    "        self.title_txt = pn.pane.Markdown(\"**Interactive Metadata Editor**: ISO 19115-2\",)\n",
    "        self.file_path_box = pnw.input.TextAreaInput(name=\"File path:\",placeholder=\"Enter path string here...\",value=\"\")\n",
    "        self.extract_button = pnw.Button(name=\"Extract Metadata\",button_type=\"primary\",width=150,height=25)\n",
    "        self.update_button = pnw.Button(name=\"Update Metadata\",button_type=\"primary\",width=150,height=25)\n",
    "        self.export_button = pnw.Button(name=\"Export to JSON\",button_type=\"primary\",width=150,height=25)\n",
    "        self.extracted = False\n",
    "        \n",
    "        self.update_export()\n",
    "        self.update_extract()\n",
    "        self.update_save()\n",
    "        \n",
    "        self.make_widgets()\n",
    "    \n",
    "    def __call__(self):\n",
    "        \"\"\"provide the dashboard\"\"\"\n",
    "        return pn.Column( self.title_txt, pn.Row( self.file_path_box, \n",
    "                               pn.Column(self.extract_button,self.update_button,self.export_button),self.event_msg ),\n",
    "                                         self.metadata_tool )\n",
    "    \n",
    "    def update_export(self):\n",
    "        \"\"\"setup the json export button callback\"\"\"\n",
    "        def click_func(event):\n",
    "            try:\n",
    "                self.attrs = {}\n",
    "                for w_list in [self.identity_values,self.text_search_values,self.extent_search_values,self.other_extent_values,self.creator_search_values,\n",
    "                          self.contributor_search_values,self.publisher_search_values,self.other_values,self.instrument_values]:\n",
    "                    for w in w_list:\n",
    "                        if w.value is not None:\n",
    "                            self.attrs[w.name] = w.value\n",
    "                self.attrs = dict(sorted(self.attrs.items()))\n",
    "                \n",
    "                with open(\".\".join(self.file_path_box.value.split(\".\")[:-1])+\".json\", 'w') as outfile:\n",
    "                    json.dump(self.attrs, outfile, indent=4,)\n",
    "\n",
    "                self.event_msg.value = f\"Metadata exported {self.export_button.clicks} time(s)\"\n",
    "                \n",
    "            except FileNotFoundError:\n",
    "                self.event_msg.value = f\"No such file or directory. Export button clicked {self.export_button.clicks} time(s)\"\n",
    "        \n",
    "        self.export_button.on_click(click_func)\n",
    "        \n",
    "    def update_extract(self):\n",
    "        \"\"\"setup the load file button callback\"\"\"\n",
    "        def click_func(event):\n",
    "            try:\n",
    "                with xr.open_dataset(self.file_path_box.value) as ds:\n",
    "                    self.ds = ds.load()\n",
    "                    self.attrs = ds.attrs\n",
    "                self.ds.to_netcdf(self.file_path_box.value)\n",
    "                self.event_msg.value = f\"Metadata extracted {self.extract_button.clicks} time(s)\"\n",
    "                \n",
    "                for w_list in [self.identity_values,self.text_search_values,self.extent_search_values,self.other_extent_values,self.creator_search_values,\n",
    "                          self.contributor_search_values,self.publisher_search_values,self.other_values]:\n",
    "                    for w in w_list:\n",
    "                        w.value = self.attrs.get(w.name)\n",
    "                        \n",
    "                if self.extracted is False:\n",
    "                    self.variables_widgets, self.variables_values = build_variables_widgets(self.ds,cols=2)\n",
    "                    self.metadata_tabs.extend([(\"Variables\",self.variables_widgets)])\n",
    "                    self.extracted = True\n",
    "\n",
    "            except OSError:\n",
    "                self.event_msg.value = f\"No such file or unknown format. Extract button clicked {self.extract_button.clicks} time(s)\"\n",
    "            except ValueError:\n",
    "                self.event_msg.value = f\"Rerun code. Need to input NetCDF file before making changes. Update button clicked {self.update_button.clicks} time(s)\"\n",
    "\n",
    "        self.extract_button.on_click(click_func)\n",
    "    \n",
    "    def update_save(self):\n",
    "        \"\"\"setup the in-place file update button callback\"\"\"\n",
    "        def click_func(event):\n",
    "            try:\n",
    "                self.attrs = {}\n",
    "                for w_list in [self.identity_values,self.text_search_values,self.extent_search_values,self.other_extent_values,self.creator_search_values,\n",
    "                          self.contributor_search_values,self.publisher_search_values,self.other_values,self.instrument_values]:\n",
    "                    for w in w_list:\n",
    "                        if w.value is not None:\n",
    "                            self.attrs[w.name] = w.value\n",
    "                self.attrs = dict(sorted(self.attrs.items()))\n",
    "                \n",
    "                # update attrs\n",
    "                self.ds.attrs.update(self.attrs)\n",
    "                \n",
    "                coord_names = [ s.split(\"(\")[0].strip() for s in str(self.ds.coords).split(\"*\")[1:] ]\n",
    "                coord_dict = dict([(c,self.ds[c]) for c in coord_names])\n",
    "                coord_names.append(\"datacube\")\n",
    "                \n",
    "                w_count = 0\n",
    "                for n in coord_names:\n",
    "                    if \"time\" not in n:\n",
    "                        if self.variables_values[w_count].value is not None: \n",
    "                            self.ds[n].attrs.update({self.variables_values[w_count].name:self.variables_values[w_count].value})\n",
    "                        if self.variables_values[w_count+1].value is not None: \n",
    "                            self.ds[n].attrs.update({self.variables_values[w_count+1].name:self.variables_values[w_count+1].value})\n",
    "                        w_count += 2\n",
    "                    if self.variables_values[w_count].value is not None: \n",
    "                        self.ds[n].attrs.update({self.variables_values[w_count].name:self.variables_values[w_count].value})\n",
    "                    if self.variables_values[w_count+1].value is not None: \n",
    "                        self.ds[n].attrs.update({self.variables_values[w_count+1].name:self.variables_values[w_count+1].value})\n",
    "                    w_count += 2\n",
    "                    \n",
    "                self.ds.to_netcdf(self.file_path_box.value)\n",
    "                self.event_msg.value = f\"Metadata saved to file. Update button clicked {self.update_button.clicks} time(s)\"\n",
    "                \n",
    "            except AttributeError:\n",
    "                self.event_msg.value = f\"Input valid NetCDF file. Update button clicked {self.update_button.clicks} time(s)\"\n",
    "\n",
    "        self.update_button.on_click(click_func)\n",
    "    \n",
    "    def make_widgets(self):\n",
    "        \"\"\"init widgets!\"\"\"\n",
    "        self.identity_wgts, self.identity_values              = build_section_widgets(\"Identification / Metadata Reference\",identity_fields)\n",
    "        self.text_search_wgts, self.text_search_values        = build_section_widgets(\"Text Search\",text_search_fields)\n",
    "        self.extent_search_wgts, self.extent_search_values    = build_section_widgets(\"Extent Search\",extent_search_fields)\n",
    "        self.other_extent_wgts, self.other_extent_values      = build_section_widgets(\"Other Extent Information\",other_extent_fields)\n",
    "        self.creator_search_wgts, self.creator_search_values  = build_section_widgets(\"Creator Search\",creator_search_fields)\n",
    "        self.contributor_search_wgts, self.contributor_search_values  = build_section_widgets(\"Contributor Search\",contributor_search_fields)\n",
    "        self.publisher_search_wgts, self.publisher_search_values  = build_section_widgets(\"Publisher Search\",publisher_search_fields)\n",
    "        self.other_wgts, self.other_values                        = build_section_widgets(\"Other Attributes\",other_fields)\n",
    "        self.instrument_wgts, self.instrument_values              = build_section_widgets(\"Instrument Attributes\",instrument_fields)\n",
    "        \n",
    "        self.metadata_tabs = pn.Tabs( (\"Identification Reference\",self.identity_wgts), \n",
    "                                    (\"Text\",self.text_search_wgts),\n",
    "                                    (\"Extent\",self.extent_search_wgts),\n",
    "                                    (\"Other Extent\",self.other_extent_wgts),\n",
    "                                    (\"Creator\",self.creator_search_wgts),\n",
    "                                    (\"Contributor\",self.contributor_search_wgts),\n",
    "                                    (\"Publisher\",self.publisher_search_wgts),\n",
    "                                    (\"Other Attributes\",self.other_wgts),\n",
    "                                    (\"Instrument\",self.instrument_wgts))\n",
    "        self.metadata_tool = pn.Column( self.metadata_tabs )"
   ]
  },
  {
   "cell_type": "code",
   "execution_count": null,
   "metadata": {},
   "outputs": [
    {
     "data": {
      "text/markdown": [
       "---\n",
       "\n",
       "### MetadataEditor.__call__\n",
       "\n",
       ">      MetadataEditor.__call__ ()\n",
       "\n",
       "provide the dashboard"
      ],
      "text/plain": [
       "---\n",
       "\n",
       "### MetadataEditor.__call__\n",
       "\n",
       ">      MetadataEditor.__call__ ()\n",
       "\n",
       "provide the dashboard"
      ]
     },
     "execution_count": null,
     "metadata": {},
     "output_type": "execute_result"
    }
   ],
   "source": [
    "show_doc(MetadataEditor.__call__)"
   ]
  },
  {
   "cell_type": "code",
   "execution_count": null,
   "metadata": {},
   "outputs": [
    {
     "data": {
      "text/markdown": [
       "---\n",
       "\n",
       "### MetadataEditor.update_export\n",
       "\n",
       ">      MetadataEditor.update_export ()\n",
       "\n",
       "setup the json export button callback"
      ],
      "text/plain": [
       "---\n",
       "\n",
       "### MetadataEditor.update_export\n",
       "\n",
       ">      MetadataEditor.update_export ()\n",
       "\n",
       "setup the json export button callback"
      ]
     },
     "execution_count": null,
     "metadata": {},
     "output_type": "execute_result"
    }
   ],
   "source": [
    "show_doc(MetadataEditor.update_export)"
   ]
  },
  {
   "cell_type": "code",
   "execution_count": null,
   "metadata": {},
   "outputs": [
    {
     "data": {
      "text/markdown": [
       "---\n",
       "\n",
       "### MetadataEditor.update_extract\n",
       "\n",
       ">      MetadataEditor.update_extract ()\n",
       "\n",
       "setup the load file button callback"
      ],
      "text/plain": [
       "---\n",
       "\n",
       "### MetadataEditor.update_extract\n",
       "\n",
       ">      MetadataEditor.update_extract ()\n",
       "\n",
       "setup the load file button callback"
      ]
     },
     "execution_count": null,
     "metadata": {},
     "output_type": "execute_result"
    }
   ],
   "source": [
    "show_doc(MetadataEditor.update_extract)"
   ]
  },
  {
   "cell_type": "code",
   "execution_count": null,
   "metadata": {},
   "outputs": [
    {
     "data": {
      "text/markdown": [
       "---\n",
       "\n",
       "### MetadataEditor.update_save\n",
       "\n",
       ">      MetadataEditor.update_save ()\n",
       "\n",
       "setup the in-place file update button callback"
      ],
      "text/plain": [
       "---\n",
       "\n",
       "### MetadataEditor.update_save\n",
       "\n",
       ">      MetadataEditor.update_save ()\n",
       "\n",
       "setup the in-place file update button callback"
      ]
     },
     "execution_count": null,
     "metadata": {},
     "output_type": "execute_result"
    }
   ],
   "source": [
    "show_doc(MetadataEditor.update_save)"
   ]
  },
  {
   "cell_type": "code",
   "execution_count": null,
   "metadata": {},
   "outputs": [
    {
     "data": {
      "text/markdown": [
       "---\n",
       "\n",
       "### MetadataEditor.make_widgets\n",
       "\n",
       ">      MetadataEditor.make_widgets ()\n",
       "\n",
       "init widgets!"
      ],
      "text/plain": [
       "---\n",
       "\n",
       "### MetadataEditor.make_widgets\n",
       "\n",
       ">      MetadataEditor.make_widgets ()\n",
       "\n",
       "init widgets!"
      ]
     },
     "execution_count": null,
     "metadata": {},
     "output_type": "execute_result"
    }
   ],
   "source": [
    "show_doc(MetadataEditor.make_widgets)"
   ]
  },
  {
   "cell_type": "markdown",
   "metadata": {},
   "source": [
    ":::{.callout-warning}\n",
    "\n",
    "This web page was generated from a Jupyter notebook and not all interactivity will work on this website. Download the notebook and run locally.\n",
    "\n",
    ":::"
   ]
  },
  {
   "cell_type": "code",
   "execution_count": null,
   "metadata": {},
   "outputs": [
    {
     "data": {},
     "metadata": {},
     "output_type": "display_data"
    },
    {
     "data": {
      "application/vnd.holoviews_exec.v0+json": "",
      "text/html": [
       "<div id='1002'>\n",
       "  <div class=\"bk-root\" id=\"90894e2d-da58-4e38-990d-88023201ed15\" data-root-id=\"1002\"></div>\n",
       "</div>\n",
       "<script type=\"application/javascript\">(function(root) {\n",
       "  function embed_document(root) {\n",
       "    var docs_json = {\"c8eb655a-43b8-4c19-b63d-4ec124a8e2e9\":{\"defs\":[{\"extends\":null,\"module\":null,\"name\":\"ReactiveHTML1\",\"overrides\":[],\"properties\":[]},{\"extends\":null,\"module\":null,\"name\":\"FlexBox1\",\"overrides\":[],\"properties\":[{\"default\":\"flex-start\",\"kind\":null,\"name\":\"align_content\"},{\"default\":\"flex-start\",\"kind\":null,\"name\":\"align_items\"},{\"default\":\"row\",\"kind\":null,\"name\":\"flex_direction\"},{\"default\":\"wrap\",\"kind\":null,\"name\":\"flex_wrap\"},{\"default\":\"flex-start\",\"kind\":null,\"name\":\"justify_content\"}]},{\"extends\":null,\"module\":null,\"name\":\"GridStack1\",\"overrides\":[],\"properties\":[{\"default\":\"warn\",\"kind\":null,\"name\":\"mode\"},{\"default\":null,\"kind\":null,\"name\":\"ncols\"},{\"default\":null,\"kind\":null,\"name\":\"nrows\"},{\"default\":true,\"kind\":null,\"name\":\"allow_resize\"},{\"default\":true,\"kind\":null,\"name\":\"allow_drag\"},{\"default\":[],\"kind\":null,\"name\":\"state\"}]},{\"extends\":null,\"module\":null,\"name\":\"click1\",\"overrides\":[],\"properties\":[{\"default\":\"\",\"kind\":null,\"name\":\"terminal_output\"},{\"default\":\"\",\"kind\":null,\"name\":\"debug_name\"},{\"default\":0,\"kind\":null,\"name\":\"clears\"}]},{\"extends\":null,\"module\":null,\"name\":\"NotificationAreaBase1\",\"overrides\":[],\"properties\":[{\"default\":\"bottom-right\",\"kind\":null,\"name\":\"position\"},{\"default\":0,\"kind\":null,\"name\":\"_clear\"}]},{\"extends\":null,\"module\":null,\"name\":\"NotificationArea1\",\"overrides\":[],\"properties\":[{\"default\":[],\"kind\":null,\"name\":\"notifications\"},{\"default\":\"bottom-right\",\"kind\":null,\"name\":\"position\"},{\"default\":0,\"kind\":null,\"name\":\"_clear\"},{\"default\":[{\"background\":\"#ffc107\",\"icon\":{\"className\":\"fas fa-exclamation-triangle\",\"color\":\"white\",\"tagName\":\"i\"},\"type\":\"warning\"},{\"background\":\"#007bff\",\"icon\":{\"className\":\"fas fa-info-circle\",\"color\":\"white\",\"tagName\":\"i\"},\"type\":\"info\"}],\"kind\":null,\"name\":\"types\"}]},{\"extends\":null,\"module\":null,\"name\":\"Notification\",\"overrides\":[],\"properties\":[{\"default\":null,\"kind\":null,\"name\":\"background\"},{\"default\":3000,\"kind\":null,\"name\":\"duration\"},{\"default\":null,\"kind\":null,\"name\":\"icon\"},{\"default\":\"\",\"kind\":null,\"name\":\"message\"},{\"default\":null,\"kind\":null,\"name\":\"notification_type\"},{\"default\":false,\"kind\":null,\"name\":\"_destroyed\"}]},{\"extends\":null,\"module\":null,\"name\":\"TemplateActions1\",\"overrides\":[],\"properties\":[{\"default\":0,\"kind\":null,\"name\":\"open_modal\"},{\"default\":0,\"kind\":null,\"name\":\"close_modal\"}]},{\"extends\":null,\"module\":null,\"name\":\"MaterialTemplateActions1\",\"overrides\":[],\"properties\":[{\"default\":0,\"kind\":null,\"name\":\"open_modal\"},{\"default\":0,\"kind\":null,\"name\":\"close_modal\"}]}],\"roots\":{\"references\":[{\"attributes\":{\"children\":[{\"id\":\"1003\"},{\"id\":\"1004\"},{\"id\":\"1011\"}],\"margin\":[0,0,0,0],\"name\":\"Column00253\"},\"id\":\"1002\",\"type\":\"Column\"},{\"attributes\":{\"client_comm_id\":\"53712b02e6874198af3f49d3c4606429\",\"comm_id\":\"a9295fc917854d4b812cf4402d06fb35\",\"plot_id\":\"1002\"},\"id\":\"1146\",\"type\":\"panel.models.comm_manager.CommManager\"},{\"attributes\":{\"children\":[{\"id\":\"1030\"},{\"id\":\"1031\"}],\"margin\":[0,0,0,0],\"name\":\"Column00131\"},\"id\":\"1029\",\"type\":\"Column\"},{\"attributes\":{\"children\":[{\"id\":\"1060\"},{\"id\":\"1068\"}],\"margin\":[0,0,0,0],\"name\":\"Column00178\"},\"id\":\"1059\",\"type\":\"Column\"},{\"attributes\":{\"margin\":[5,10,5,10],\"max_length\":5000,\"placeholder\":\"Which rows are extracted from each camera frame\",\"title\":\"camera_row_slice\"},\"id\":\"1143\",\"type\":\"TextAreaInput\"},{\"attributes\":{\"margin\":[5,10,5,10],\"max_length\":5000,\"placeholder\":\"Exposure time for each camera frame in ms\",\"title\":\"camera_exposure_time\"},\"id\":\"1141\",\"type\":\"TextAreaInput\"},{\"attributes\":{\"margin\":[5,10,5,10],\"max_length\":5000,\"placeholder\":\"Full Width Half Maximum for spectral bands\",\"title\":\"camera_fwhm\"},\"id\":\"1144\",\"type\":\"TextAreaInput\"},{\"attributes\":{\"css_classes\":[\"markdown\"],\"margin\":[5,5,5,5],\"name\":\"Markdown00163\",\"text\":\"&lt;p&gt;&lt;em&gt;Recommended:&lt;/em&gt;&lt;/p&gt;\"},\"id\":\"1061\",\"type\":\"panel.models.markup.HTML\"},{\"attributes\":{\"children\":[{\"id\":\"1127\"},{\"id\":\"1128\"}],\"margin\":[0,0,0,0],\"name\":\"Column00238\"},\"id\":\"1126\",\"type\":\"Column\"},{\"attributes\":{\"children\":[[{\"id\":\"1071\"},0,0,1,1],[{\"id\":\"1072\"},0,1,1,1],[{\"id\":\"1073\"},0,2,1,1],[{\"id\":\"1074\"},1,0,1,1],[{\"id\":\"1075\"},1,1,1,1],[{\"id\":\"1076\"},1,2,1,1],[{\"id\":\"1077\"},2,0,1,1]],\"margin\":[0,0,0,0],\"name\":\"GridBox00176\"},\"id\":\"1070\",\"type\":\"GridBox\"},{\"attributes\":{\"margin\":[5,10,5,10],\"max_length\":5000,\"placeholder\":\"Gain used for the camera\",\"title\":\"camera_gain\"},\"id\":\"1142\",\"type\":\"TextAreaInput\"},{\"attributes\":{\"margin\":[5,10,5,10],\"max_length\":5000,\"placeholder\":\"A paragraph describing the dataset\",\"title\":\"summary\"},\"id\":\"1033\",\"type\":\"TextAreaInput\"},{\"attributes\":{\"reload\":false},\"id\":\"1147\",\"type\":\"panel.models.location.Location\"},{\"attributes\":{\"margin\":[5,10,5,10],\"max_length\":5000,\"placeholder\":\"A short description of the dataset\",\"title\":\"title\"},\"id\":\"1032\",\"type\":\"TextAreaInput\"},{\"attributes\":{\"margin\":[5,10,5,10],\"max_length\":5000,\"placeholder\":\"A comma separated list of key words and phrases\",\"title\":\"keywords\"},\"id\":\"1034\",\"type\":\"TextAreaInput\"},{\"attributes\":{\"children\":[{\"id\":\"1036\"},{\"id\":\"1037\"}],\"margin\":[0,0,0,0],\"name\":\"Column00138\"},\"id\":\"1035\",\"type\":\"Column\"},{\"attributes\":{\"children\":[[{\"id\":\"1093\"},0,0,1,1],[{\"id\":\"1094\"},0,1,1,1],[{\"id\":\"1095\"},0,2,1,1],[{\"id\":\"1096\"},1,0,1,1],[{\"id\":\"1097\"},1,1,1,1]],\"margin\":[0,0,0,0],\"name\":\"GridBox00197\"},\"id\":\"1092\",\"type\":\"GridBox\"},{\"attributes\":{\"button_type\":\"primary\",\"height\":25,\"icon\":null,\"label\":\"Extract Metadata\",\"margin\":[5,10,5,10],\"sizing_mode\":\"fixed\",\"subscribed_events\":[\"button_click\"],\"width\":150},\"id\":\"1007\",\"type\":\"Button\"},{\"attributes\":{\"margin\":[5,10,5,10],\"max_length\":5000,\"placeholder\":\"Spacing of points in latitude with units specified\",\"title\":\"geospatial_lat_resolution\"},\"id\":\"1074\",\"type\":\"TextAreaInput\"},{\"attributes\":{\"margin\":[5,10,5,10],\"max_length\":5000,\"placeholder\":\"Enter a string here...\",\"title\":\"contributor_role\"},\"id\":\"1104\",\"type\":\"TextAreaInput\"},{\"attributes\":{\"children\":[{\"id\":\"1080\"},{\"id\":\"1090\"}],\"margin\":[0,0,0,0],\"name\":\"Column00199\"},\"id\":\"1079\",\"type\":\"Column\"},{\"attributes\":{\"margin\":[5,10,5,10],\"max_length\":5000,\"placeholder\":\"A textual description of the processing (or quality control) level of the data\",\"title\":\"processing_level\"},\"id\":\"1123\",\"type\":\"TextAreaInput\"},{\"attributes\":{\"css_classes\":[\"markdown\"],\"margin\":[5,5,5,5],\"name\":\"Markdown00224\",\"text\":\"&lt;p&gt;&lt;em&gt;Recommended:&lt;/em&gt;&lt;/p&gt;\"},\"id\":\"1121\",\"type\":\"panel.models.markup.HTML\"},{\"attributes\":{\"margin\":[5,10,5,10],\"max_length\":5000,\"placeholder\":\"Enter a string here...\",\"title\":\"creator_institution\"},\"id\":\"1093\",\"type\":\"TextAreaInput\"},{\"attributes\":{\"margin\":[5,10,5,10],\"max_length\":5000,\"placeholder\":\"The method of production of the original data. E.g. model-generated\",\"title\":\"source\"},\"id\":\"1125\",\"type\":\"TextAreaInput\"},{\"attributes\":{\"margin\":[5,10,5,10],\"max_length\":5000,\"placeholder\":\"The date on which this metadata was last modified\",\"title\":\"date_metadata_modified\"},\"id\":\"1096\",\"type\":\"TextAreaInput\"},{\"attributes\":{\"margin\":[5,10,5,10],\"max_length\":5000,\"placeholder\":\"Choose 'person', 'group', 'institution', or 'position'\",\"title\":\"creator_type\"},\"id\":\"1094\",\"type\":\"TextAreaInput\"},{\"attributes\":{\"css_classes\":[\"markdown\"],\"margin\":[5,5,5,5],\"name\":\"Markdown00202\",\"text\":\"&lt;p&gt;&lt;em&gt;Suggested:&lt;/em&gt;&lt;/p&gt;\"},\"id\":\"1101\",\"type\":\"panel.models.markup.HTML\"},{\"attributes\":{\"margin\":[5,10,5,10],\"max_length\":5000,\"placeholder\":\"Unique name or identifier of vocabulary from which keywords are taken. E.g. CF:NetCDF COARDS Climate and Forecast Standard Names\",\"title\":\"keywords_vocabulary\"},\"id\":\"1044\",\"type\":\"TextAreaInput\"},{\"attributes\":{\"margin\":[5,10,5,10],\"max_length\":5000,\"placeholder\":\"The date on which this data was last modified\",\"title\":\"date_modified\"},\"id\":\"1095\",\"type\":\"TextAreaInput\"},{\"attributes\":{\"css_classes\":[\"markdown\"],\"margin\":[5,5,5,5],\"name\":\"Markdown00195\",\"text\":\"&lt;p&gt;&lt;em&gt;Suggested:&lt;/em&gt;&lt;/p&gt;\"},\"id\":\"1091\",\"type\":\"panel.models.markup.HTML\"},{\"attributes\":{\"css_classes\":[\"markdown\"],\"margin\":[5,5,5,5],\"name\":\"Markdown00102\",\"text\":\"&lt;p&gt;&lt;strong&gt;Interactive Metadata Editor&lt;/strong&gt;: ISO 19115-2&lt;/p&gt;\"},\"id\":\"1003\",\"type\":\"panel.models.markup.HTML\"},{\"attributes\":{\"margin\":[5,10,5,10],\"max_length\":5000,\"placeholder\":\"The date on which this data was formally issued\",\"title\":\"date_issued\"},\"id\":\"1097\",\"type\":\"TextAreaInput\"},{\"attributes\":{\"children\":[[{\"id\":\"1044\"},0,0,1,1]],\"margin\":[0,0,0,0],\"name\":\"GridBox00142\"},\"id\":\"1043\",\"type\":\"GridBox\"},{\"attributes\":{\"margin\":[5,10,5,10],\"max_length\":5000,\"placeholder\":\"Describe the restrictions to data access and distribution\",\"title\":\"license\"},\"id\":\"1124\",\"type\":\"TextAreaInput\"},{\"attributes\":{\"children\":[{\"id\":\"1005\"},{\"id\":\"1006\"},{\"id\":\"1010\"}],\"margin\":[0,0,0,0],\"name\":\"Row00252\"},\"id\":\"1004\",\"type\":\"Row\"},{\"attributes\":{\"children\":[{\"id\":\"1007\"},{\"id\":\"1008\"},{\"id\":\"1009\"}],\"margin\":[0,0,0,0],\"name\":\"Column00251\"},\"id\":\"1006\",\"type\":\"Column\"},{\"attributes\":{\"children\":[{\"id\":\"1042\"},{\"id\":\"1043\"}],\"margin\":[0,0,0,0],\"name\":\"Column00143\"},\"id\":\"1041\",\"type\":\"Column\"},{\"attributes\":{\"margin\":[5,10,5,10],\"max_length\":5000,\"placeholder\":\"Enter path string here...\",\"title\":\"File path:\"},\"id\":\"1005\",\"type\":\"TextAreaInput\"},{\"attributes\":{\"css_classes\":[\"markdown\"],\"margin\":[5,5,5,5],\"name\":\"Markdown00216\",\"text\":\"&lt;p&gt;&lt;em&gt;Suggested:&lt;/em&gt;&lt;/p&gt;\"},\"id\":\"1114\",\"type\":\"panel.models.markup.HTML\"},{\"attributes\":{\"margin\":[5,10,5,10],\"max_length\":5000,\"placeholder\":\"Link to a complete metadata record (or collection)\",\"title\":\"metadata_link\"},\"id\":\"1026\",\"type\":\"TextAreaInput\"},{\"attributes\":{\"children\":[{\"id\":\"1012\"}],\"margin\":[0,0,0,0],\"name\":\"Column00250\"},\"id\":\"1011\",\"type\":\"Column\"},{\"attributes\":{\"children\":[[{\"id\":\"1026\"},0,0,1,1]],\"margin\":[0,0,0,0],\"name\":\"GridBox00122\"},\"id\":\"1025\",\"type\":\"GridBox\"},{\"attributes\":{\"css_classes\":[\"markdown\"],\"margin\":[5,5,5,5],\"name\":\"Markdown00174\",\"text\":\"&lt;p&gt;&lt;em&gt;Suggested:&lt;/em&gt;&lt;/p&gt;\"},\"id\":\"1069\",\"type\":\"panel.models.markup.HTML\"},{\"attributes\":{\"button_type\":\"primary\",\"height\":25,\"icon\":null,\"label\":\"Update Metadata\",\"margin\":[5,10,5,10],\"sizing_mode\":\"fixed\",\"subscribed_events\":[\"button_click\"],\"width\":150},\"id\":\"1008\",\"type\":\"Button\"},{\"attributes\":{\"children\":[[{\"id\":\"1123\"},0,0,1,1],[{\"id\":\"1124\"},0,1,1,1],[{\"id\":\"1125\"},0,2,1,1]],\"margin\":[0,0,0,0],\"name\":\"GridBox00226\"},\"id\":\"1122\",\"type\":\"GridBox\"},{\"attributes\":{\"button_type\":\"primary\",\"height\":25,\"icon\":null,\"label\":\"Export to JSON\",\"margin\":[5,10,5,10],\"sizing_mode\":\"fixed\",\"subscribed_events\":[\"button_click\"],\"width\":150},\"id\":\"1009\",\"type\":\"Button\"},{\"attributes\":{\"css_classes\":[\"markdown\"],\"margin\":[5,5,5,5],\"name\":\"Markdown00186\",\"text\":\"&lt;p&gt;&lt;em&gt;Recommended:&lt;/em&gt;&lt;/p&gt;\"},\"id\":\"1081\",\"type\":\"panel.models.markup.HTML\"},{\"attributes\":{\"margin\":[0,0,0,0],\"tabs\":[{\"id\":\"1027\"},{\"id\":\"1045\"},{\"id\":\"1058\"},{\"id\":\"1078\"},{\"id\":\"1098\"},{\"id\":\"1105\"},{\"id\":\"1118\"},{\"id\":\"1136\"},{\"id\":\"1145\"}]},\"id\":\"1012\",\"type\":\"panel.models.tabs.Tabs\"},{\"attributes\":{\"css_classes\":[\"markdown\"],\"margin\":[5,5,5,5],\"name\":\"Markdown00210\",\"text\":\"&lt;p&gt;&lt;em&gt;Recommended:&lt;/em&gt;&lt;/p&gt;\"},\"id\":\"1108\",\"type\":\"panel.models.markup.HTML\"},{\"attributes\":{\"margin\":[5,10,5,10],\"name\":\"\"},\"id\":\"1010\",\"type\":\"Div\"},{\"attributes\":{\"children\":[{\"id\":\"1014\"},{\"id\":\"1018\"},{\"id\":\"1023\"}],\"margin\":[0,0,0,0],\"name\":\"Column00124\"},\"id\":\"1013\",\"type\":\"Column\"},{\"attributes\":{\"margin\":[5,10,5,10],\"max_length\":5000,\"placeholder\":\"Units for the longitude axis usually presumed to be degree_east\",\"title\":\"geospatial_lon_units\"},\"id\":\"1071\",\"type\":\"TextAreaInput\"},{\"attributes\":{\"child\":{\"id\":\"1013\"},\"name\":\"Column00124\",\"title\":\"Identification Reference\"},\"id\":\"1027\",\"type\":\"Panel\"},{\"attributes\":{\"children\":[{\"id\":\"1048\"},{\"id\":\"1049\"}],\"margin\":[0,0,0,0],\"name\":\"Column00156\"},\"id\":\"1047\",\"type\":\"Column\"},{\"attributes\":{\"children\":[{\"id\":\"1015\"},{\"id\":\"1016\"}],\"margin\":[0,0,0,0],\"name\":\"Column00112\"},\"id\":\"1014\",\"type\":\"Column\"},{\"attributes\":{\"children\":[{\"id\":\"1019\"},{\"id\":\"1020\"}],\"margin\":[0,0,0,0],\"name\":\"Column00118\"},\"id\":\"1018\",\"type\":\"Column\"},{\"attributes\":{\"margin\":[5,10,5,10],\"max_length\":5000,\"placeholder\":\"Units for the longitude axis usually presumed to be degree_north\",\"title\":\"geospatial_lat_units\"},\"id\":\"1073\",\"type\":\"TextAreaInput\"},{\"attributes\":{\"children\":[[{\"id\":\"1103\"},0,0,1,1],[{\"id\":\"1104\"},0,1,1,1]],\"margin\":[0,0,0,0],\"name\":\"GridBox00204\"},\"id\":\"1102\",\"type\":\"GridBox\"},{\"attributes\":{\"margin\":[5,10,5,10],\"max_length\":5000,\"placeholder\":\"Units for the vertical axis E.g. EPSG:4979\",\"title\":\"geospatial_vertical_units\"},\"id\":\"1075\",\"type\":\"TextAreaInput\"},{\"attributes\":{\"child\":{\"id\":\"1028\"},\"name\":\"Column00144\",\"title\":\"Text\"},\"id\":\"1045\",\"type\":\"Panel\"},{\"attributes\":{\"margin\":[5,10,5,10],\"max_length\":5000,\"placeholder\":\"Certical spacing of points with units specified\",\"title\":\"geospatial_vertical_resolution\"},\"id\":\"1076\",\"type\":\"TextAreaInput\"},{\"attributes\":{\"margin\":[5,10,5,10],\"max_length\":5000,\"placeholder\":\"Enter a string here...\",\"title\":\"contributor_name\"},\"id\":\"1103\",\"type\":\"TextAreaInput\"},{\"attributes\":{\"margin\":[5,10,5,10],\"max_length\":5000,\"placeholder\":\"Spacing of points in longitude with units specified\",\"title\":\"geospatial_lon_resolution\"},\"id\":\"1072\",\"type\":\"TextAreaInput\"},{\"attributes\":{\"margin\":[5,10,5,10],\"max_length\":5000,\"placeholder\":\"Choose 'up' or 'down'\",\"title\":\"geospatial_vertical_positive\"},\"id\":\"1077\",\"type\":\"TextAreaInput\"},{\"attributes\":{\"children\":[{\"id\":\"1032\"},{\"id\":\"1033\"},{\"id\":\"1034\"}],\"margin\":[0,0,0,0],\"name\":\"Row00130\"},\"id\":\"1031\",\"type\":\"Row\"},{\"attributes\":{\"margin\":[5,10,5,10],\"max_length\":5000,\"placeholder\":\"acknowledge various type of support for the project that produced this data\",\"title\":\"acknowledgment\"},\"id\":\"1083\",\"type\":\"TextAreaInput\"},{\"attributes\":{\"margin\":[5,10,5,10],\"max_length\":5000,\"placeholder\":\"The name of the controlled vocabulary from which variable standard names are taken\",\"title\":\"standard_name_vocabulary\"},\"id\":\"1038\",\"type\":\"TextAreaInput\"},{\"attributes\":{\"child\":{\"id\":\"1059\"},\"name\":\"Column00178\",\"title\":\"Other Extent\"},\"id\":\"1078\",\"type\":\"Panel\"},{\"attributes\":{\"css_classes\":[\"markdown\"],\"margin\":[5,5,5,5],\"name\":\"Markdown00128\",\"text\":\"&lt;p&gt;&lt;em&gt;Highly Recommended:&lt;/em&gt;&lt;/p&gt;\"},\"id\":\"1030\",\"type\":\"panel.models.markup.HTML\"},{\"attributes\":{\"margin\":[5,10,5,10],\"max_length\":5000,\"placeholder\":\"Provides an audit trail for modifications to the original data\",\"title\":\"history\"},\"id\":\"1039\",\"type\":\"TextAreaInput\"},{\"attributes\":{\"margin\":[5,10,5,10],\"max_length\":5000,\"placeholder\":\"The date on which the data was created\",\"title\":\"date_created\"},\"id\":\"1088\",\"type\":\"TextAreaInput\"},{\"attributes\":{\"children\":[[{\"id\":\"1038\"},0,0,1,1],[{\"id\":\"1039\"},0,1,1,1],[{\"id\":\"1040\"},0,2,1,1]],\"margin\":[0,0,0,0],\"name\":\"GridBox00137\"},\"id\":\"1037\",\"type\":\"GridBox\"},{\"attributes\":{\"children\":[{\"id\":\"1081\"},{\"id\":\"1082\"}],\"margin\":[0,0,0,0],\"name\":\"Column00189\"},\"id\":\"1080\",\"type\":\"Column\"},{\"attributes\":{\"child\":{\"id\":\"1137\"},\"name\":\"Column00248\",\"title\":\"Instrument\"},\"id\":\"1145\",\"type\":\"Panel\"},{\"attributes\":{\"children\":[{\"id\":\"1114\"},{\"id\":\"1115\"}],\"margin\":[0,0,0,0],\"name\":\"Column00219\"},\"id\":\"1113\",\"type\":\"Column\"},{\"attributes\":{\"margin\":[5,10,5,10],\"max_length\":5000,\"placeholder\":\"The data publisher's name. Can be an individual or an institution\",\"title\":\"publisher_name\"},\"id\":\"1110\",\"type\":\"TextAreaInput\"},{\"attributes\":{\"child\":{\"id\":\"1079\"},\"name\":\"Column00199\",\"title\":\"Creator\"},\"id\":\"1098\",\"type\":\"Panel\"},{\"attributes\":{\"css_classes\":[\"markdown\"],\"margin\":[5,5,5,5],\"name\":\"Markdown00244\",\"text\":\"&lt;p&gt;&lt;em&gt;Suggested:&lt;/em&gt;&lt;/p&gt;\"},\"id\":\"1139\",\"type\":\"panel.models.markup.HTML\"},{\"attributes\":{\"margin\":[5,10,5,10],\"max_length\":5000,\"placeholder\":\"Enter a string here...\",\"title\":\"institution\"},\"id\":\"1087\",\"type\":\"TextAreaInput\"},{\"attributes\":{\"css_classes\":[\"markdown\"],\"margin\":[5,5,5,5],\"name\":\"Markdown00135\",\"text\":\"&lt;p&gt;&lt;em&gt;Recommended:&lt;/em&gt;&lt;/p&gt;\"},\"id\":\"1036\",\"type\":\"panel.models.markup.HTML\"},{\"attributes\":{\"css_classes\":[\"markdown\"],\"margin\":[5,5,5,5],\"name\":\"Markdown00235\",\"text\":\"&lt;p&gt;&lt;em&gt;Suggested:&lt;/em&gt;&lt;/p&gt;\"},\"id\":\"1127\",\"type\":\"panel.models.markup.HTML\"},{\"attributes\":{\"margin\":[5,10,5,10],\"max_length\":5000,\"placeholder\":\"Enter a string here...\",\"title\":\"creator_email\"},\"id\":\"1086\",\"type\":\"TextAreaInput\"},{\"attributes\":{\"css_classes\":[\"markdown\"],\"margin\":[5,5,5,5],\"name\":\"Markdown00120\",\"text\":\"&lt;p&gt;&lt;em&gt;Suggested:&lt;/em&gt;&lt;/p&gt;\"},\"id\":\"1024\",\"type\":\"panel.models.markup.HTML\"},{\"attributes\":{\"margin\":[5,10,5,10],\"max_length\":5000,\"placeholder\":\"Controlled vocabulary for the names used in the `instrument` attribute\",\"title\":\"instrument_vocabulary\"},\"id\":\"1131\",\"type\":\"TextAreaInput\"},{\"attributes\":{\"margin\":[5,10,5,10],\"max_length\":5000,\"placeholder\":\"The scientific project that produced the data\",\"title\":\"project\"},\"id\":\"1089\",\"type\":\"TextAreaInput\"},{\"attributes\":{\"children\":[{\"id\":\"1100\"}],\"margin\":[0,0,0,0],\"name\":\"Column00206\"},\"id\":\"1099\",\"type\":\"Column\"},{\"attributes\":{\"children\":[[{\"id\":\"1116\"},0,0,1,1],[{\"id\":\"1117\"},0,1,1,1]],\"margin\":[0,0,0,0],\"name\":\"GridBox00218\"},\"id\":\"1115\",\"type\":\"GridBox\"},{\"attributes\":{\"children\":[{\"id\":\"1101\"},{\"id\":\"1102\"}],\"margin\":[0,0,0,0],\"name\":\"Column00205\"},\"id\":\"1100\",\"type\":\"Column\"},{\"attributes\":{\"children\":[{\"id\":\"1138\"}],\"margin\":[0,0,0,0],\"name\":\"Column00248\"},\"id\":\"1137\",\"type\":\"Column\"},{\"attributes\":{\"children\":[{\"id\":\"1061\"},{\"id\":\"1062\"}],\"margin\":[0,0,0,0],\"name\":\"Column00166\"},\"id\":\"1060\",\"type\":\"Column\"},{\"attributes\":{\"children\":[[{\"id\":\"1050\"},0,0,1,1],[{\"id\":\"1051\"},0,1,1,1],[{\"id\":\"1052\"},0,2,1,1],[{\"id\":\"1053\"},1,0,1,1],[{\"id\":\"1054\"},1,1,1,1],[{\"id\":\"1055\"},1,2,1,1],[{\"id\":\"1056\"},2,0,1,1],[{\"id\":\"1057\"},2,1,1,1]],\"margin\":[0,0,0,0],\"name\":\"GridBox00155\"},\"id\":\"1049\",\"type\":\"GridBox\"},{\"attributes\":{\"margin\":[5,10,5,10],\"max_length\":5000,\"placeholder\":\"Choose 'person', 'group', 'institution', or 'position'\",\"title\":\"publisher_type\"},\"id\":\"1116\",\"type\":\"TextAreaInput\"},{\"attributes\":{\"children\":[{\"id\":\"1120\"},{\"id\":\"1126\"}],\"margin\":[0,0,0,0],\"name\":\"Column00239\"},\"id\":\"1119\",\"type\":\"Column\"},{\"attributes\":{\"margin\":[5,10,5,10],\"max_length\":5000,\"placeholder\":\"Minimum latitude\",\"title\":\"geospatial_lat_min\"},\"id\":\"1050\",\"type\":\"TextAreaInput\"},{\"attributes\":{\"children\":[{\"id\":\"1108\"},{\"id\":\"1109\"}],\"margin\":[0,0,0,0],\"name\":\"Column00213\"},\"id\":\"1107\",\"type\":\"Column\"},{\"attributes\":{\"margin\":[5,10,5,10],\"max_length\":5000,\"placeholder\":\"Maximum longitude\",\"title\":\"geospatial_lon_max\"},\"id\":\"1053\",\"type\":\"TextAreaInput\"},{\"attributes\":{\"children\":[{\"id\":\"1139\"},{\"id\":\"1140\"}],\"margin\":[0,0,0,0],\"name\":\"Column00247\"},\"id\":\"1138\",\"type\":\"Column\"},{\"attributes\":{\"margin\":[5,10,5,10],\"max_length\":5000,\"placeholder\":\"Miscellaneous information about the data.\",\"title\":\"comment\"},\"id\":\"1040\",\"type\":\"TextAreaInput\"},{\"attributes\":{\"margin\":[5,10,5,10],\"max_length\":5000,\"placeholder\":\"Maximum latitude\",\"title\":\"geospatial_lat_max\"},\"id\":\"1051\",\"type\":\"TextAreaInput\"},{\"attributes\":{\"children\":[{\"id\":\"1107\"},{\"id\":\"1113\"}],\"margin\":[0,0,0,0],\"name\":\"Column00220\"},\"id\":\"1106\",\"type\":\"Column\"},{\"attributes\":{\"child\":{\"id\":\"1106\"},\"name\":\"Column00220\",\"title\":\"Publisher\"},\"id\":\"1118\",\"type\":\"Panel\"},{\"attributes\":{\"margin\":[5,10,5,10],\"max_length\":5000,\"placeholder\":\"Dataset datatype\",\"title\":\"cdm_data_type\"},\"id\":\"1129\",\"type\":\"TextAreaInput\"},{\"attributes\":{\"margin\":[5,10,5,10],\"max_length\":5000,\"placeholder\":\"Minimum longitude\",\"title\":\"geospatial_lon_min\"},\"id\":\"1052\",\"type\":\"TextAreaInput\"},{\"attributes\":{\"margin\":[5,10,5,10],\"max_length\":5000,\"placeholder\":\"Enter a string here...\",\"title\":\"creator_url\"},\"id\":\"1085\",\"type\":\"TextAreaInput\"},{\"attributes\":{\"children\":[{\"id\":\"1121\"},{\"id\":\"1122\"}],\"margin\":[0,0,0,0],\"name\":\"Column00227\"},\"id\":\"1120\",\"type\":\"Column\"},{\"attributes\":{\"children\":[[{\"id\":\"1129\"},0,0,1,1],[{\"id\":\"1130\"},0,1,1,1],[{\"id\":\"1131\"},0,2,1,1],[{\"id\":\"1132\"},1,0,1,1],[{\"id\":\"1133\"},1,1,1,1],[{\"id\":\"1134\"},1,2,1,1],[{\"id\":\"1135\"},2,0,1,1]],\"margin\":[0,0,0,0],\"name\":\"GridBox00237\"},\"id\":\"1128\",\"type\":\"GridBox\"},{\"attributes\":{\"children\":[[{\"id\":\"1083\"},0,0,1,1],[{\"id\":\"1084\"},0,1,1,1],[{\"id\":\"1085\"},0,2,1,1],[{\"id\":\"1086\"},1,0,1,1],[{\"id\":\"1087\"},1,1,1,1],[{\"id\":\"1088\"},1,2,1,1],[{\"id\":\"1089\"},2,0,1,1]],\"margin\":[0,0,0,0],\"name\":\"GridBox00188\"},\"id\":\"1082\",\"type\":\"GridBox\"},{\"attributes\":{\"margin\":[5,10,5,10],\"max_length\":5000,\"placeholder\":\"Time of first data point using the ISO 8601:2004 date format YYYY-MM-DDThh:mm:ss<zone>\",\"title\":\"time_coverage_start\"},\"id\":\"1054\",\"type\":\"TextAreaInput\"},{\"attributes\":{\"child\":{\"id\":\"1046\"},\"name\":\"Column00157\",\"title\":\"Extent\"},\"id\":\"1058\",\"type\":\"Panel\"},{\"attributes\":{\"margin\":[5,10,5,10],\"max_length\":5000,\"placeholder\":\"Time of last data point using the ISO 8601:2004 date format YYYY-MM-DDThh:mm:ss<zone>\",\"title\":\"time_coverage_end\"},\"id\":\"1055\",\"type\":\"TextAreaInput\"},{\"attributes\":{\"margin\":[5,10,5,10],\"max_length\":5000,\"placeholder\":\"The data publisher's email. Can be an individual or an institution\",\"title\":\"publisher_email\"},\"id\":\"1112\",\"type\":\"TextAreaInput\"},{\"attributes\":{\"children\":[{\"id\":\"1017\"}],\"margin\":[0,0,0,0],\"name\":\"Row00111\"},\"id\":\"1016\",\"type\":\"Row\"},{\"attributes\":{\"margin\":[5,10,5,10],\"max_length\":5000,\"placeholder\":\"Minimum altitude\",\"title\":\"geospatial_vertical_min\"},\"id\":\"1056\",\"type\":\"TextAreaInput\"},{\"attributes\":{\"margin\":[5,10,5,10],\"max_length\":5000,\"placeholder\":\"Maximum altitude\",\"title\":\"geospatial_vertical_max\"},\"id\":\"1057\",\"type\":\"TextAreaInput\"},{\"attributes\":{\"margin\":[5,10,5,10],\"max_length\":5000,\"placeholder\":\"Name of the platform(s) E.g. satellite, ship, station, aircraft\",\"title\":\"platform\"},\"id\":\"1132\",\"type\":\"TextAreaInput\"},{\"attributes\":{\"children\":[[{\"id\":\"1021\"},0,0,1,1],[{\"id\":\"1022\"},0,1,1,1]],\"margin\":[0,0,0,0],\"name\":\"GridBox00117\"},\"id\":\"1020\",\"type\":\"GridBox\"},{\"attributes\":{\"children\":[[{\"id\":\"1110\"},0,0,1,1],[{\"id\":\"1111\"},0,1,1,1],[{\"id\":\"1112\"},0,2,1,1]],\"margin\":[0,0,0,0],\"name\":\"GridBox00212\"},\"id\":\"1109\",\"type\":\"GridBox\"},{\"attributes\":{\"margin\":[5,10,5,10],\"max_length\":5000,\"placeholder\":\"Dataset conventions. E.g. CF-1.6, ISO 19115-2, COARDS\",\"title\":\"Conventions\"},\"id\":\"1017\",\"type\":\"TextAreaInput\"},{\"attributes\":{\"margin\":[5,10,5,10],\"max_length\":5000,\"placeholder\":\"Version identifier of the data file or product as assigned by the data creator\",\"title\":\"product_version\"},\"id\":\"1133\",\"type\":\"TextAreaInput\"},{\"attributes\":{\"margin\":[5,10,5,10],\"max_length\":5000,\"placeholder\":\"Globally unique identifier for the dataset\",\"title\":\"id\"},\"id\":\"1021\",\"type\":\"TextAreaInput\"},{\"attributes\":{\"children\":[{\"id\":\"1029\"},{\"id\":\"1035\"},{\"id\":\"1041\"}],\"margin\":[0,0,0,0],\"name\":\"Column00144\"},\"id\":\"1028\",\"type\":\"Column\"},{\"attributes\":{\"margin\":[5,10,5,10],\"max_length\":5000,\"placeholder\":\"Enter a string here...\",\"title\":\"creator_name\"},\"id\":\"1084\",\"type\":\"TextAreaInput\"},{\"attributes\":{\"css_classes\":[\"markdown\"],\"margin\":[5,5,5,5],\"name\":\"Markdown00109\",\"text\":\"&lt;p&gt;&lt;em&gt;Highly Recommended:&lt;/em&gt;&lt;/p&gt;\"},\"id\":\"1015\",\"type\":\"panel.models.markup.HTML\"},{\"attributes\":{\"margin\":[5,10,5,10],\"max_length\":5000,\"placeholder\":\"Email address of those responsible for publishing the data, with its current metadata and format\",\"title\":\"publisher_institution\"},\"id\":\"1117\",\"type\":\"TextAreaInput\"},{\"attributes\":{\"css_classes\":[\"markdown\"],\"margin\":[5,5,5,5],\"name\":\"Markdown00115\",\"text\":\"&lt;p&gt;&lt;em&gt;Recommended:&lt;/em&gt;&lt;/p&gt;\"},\"id\":\"1019\",\"type\":\"panel.models.markup.HTML\"},{\"attributes\":{\"children\":[[{\"id\":\"1063\"},0,0,1,1],[{\"id\":\"1064\"},0,1,1,1],[{\"id\":\"1065\"},0,2,1,1],[{\"id\":\"1066\"},1,0,1,1],[{\"id\":\"1067\"},1,1,1,1]],\"margin\":[0,0,0,0],\"name\":\"GridBox00165\"},\"id\":\"1062\",\"type\":\"GridBox\"},{\"attributes\":{\"margin\":[5,10,5,10],\"max_length\":5000,\"placeholder\":\"The organization that provides the initial id\",\"title\":\"naming_authority\"},\"id\":\"1022\",\"type\":\"TextAreaInput\"},{\"attributes\":{\"margin\":[5,10,5,10],\"max_length\":5000,\"placeholder\":\"The overarching program(s) of which the dataset is a part\",\"title\":\"program\"},\"id\":\"1134\",\"type\":\"TextAreaInput\"},{\"attributes\":{\"children\":[{\"id\":\"1069\"},{\"id\":\"1070\"}],\"margin\":[0,0,0,0],\"name\":\"Column00177\"},\"id\":\"1068\",\"type\":\"Column\"},{\"attributes\":{\"margin\":[5,10,5,10],\"max_length\":5000,\"placeholder\":\"The data publisher's URL. Can be an individual or an institution\",\"title\":\"publisher_url\"},\"id\":\"1111\",\"type\":\"TextAreaInput\"},{\"attributes\":{\"margin\":[5,10,5,10],\"max_length\":5000,\"placeholder\":\"Name of the contributing instrument(s) or sensor(s) used to create this data set or product\",\"title\":\"instrument\"},\"id\":\"1130\",\"type\":\"TextAreaInput\"},{\"attributes\":{\"child\":{\"id\":\"1119\"},\"name\":\"Column00239\",\"title\":\"Other Attributes\"},\"id\":\"1136\",\"type\":\"Panel\"},{\"attributes\":{\"margin\":[5,10,5,10],\"max_length\":5000,\"placeholder\":\"The north, south, east, west bouding box\",\"title\":\"geospatial_bounds\"},\"id\":\"1063\",\"type\":\"TextAreaInput\"},{\"attributes\":{\"margin\":[5,10,5,10],\"max_length\":5000,\"placeholder\":\"The vertical coordinate reference system (CRS) for the Z axis\",\"title\":\"geospatial_bounds_vertical_crs\"},\"id\":\"1065\",\"type\":\"TextAreaInput\"},{\"attributes\":{\"children\":[{\"id\":\"1047\"}],\"margin\":[0,0,0,0],\"name\":\"Column00157\"},\"id\":\"1046\",\"type\":\"Column\"},{\"attributes\":{\"margin\":[5,10,5,10],\"max_length\":5000,\"placeholder\":\"The coordinate reference system (CRS) of the point coordinates geospatial_bounds\",\"title\":\"geospatial_bounds_crs\"},\"id\":\"1064\",\"type\":\"TextAreaInput\"},{\"attributes\":{\"margin\":[5,10,5,10],\"max_length\":5000,\"placeholder\":\"Duration of the dataset in ISO 8601:2004 duration format P[YYYY]-[MM]-[DD]T[hh]:[mm]:[ss]\",\"title\":\"time_coverage_duration\"},\"id\":\"1066\",\"type\":\"TextAreaInput\"},{\"attributes\":{\"children\":[{\"id\":\"1024\"},{\"id\":\"1025\"}],\"margin\":[0,0,0,0],\"name\":\"Column00123\"},\"id\":\"1023\",\"type\":\"Column\"},{\"attributes\":{\"css_classes\":[\"markdown\"],\"margin\":[5,5,5,5],\"name\":\"Markdown00153\",\"text\":\"&lt;p&gt;&lt;em&gt;Recommended:&lt;/em&gt;&lt;/p&gt;\"},\"id\":\"1048\",\"type\":\"panel.models.markup.HTML\"},{\"attributes\":{\"margin\":[5,10,5,10],\"max_length\":5000,\"placeholder\":\"Time period between each datapoint in ISO 8601:2004 duration format P[YYYY]-[MM]-[DD]T[hh]:[mm]:[ss]\",\"title\":\"time_coverage_resolution\"},\"id\":\"1067\",\"type\":\"TextAreaInput\"},{\"attributes\":{\"children\":[[{\"id\":\"1141\"},0,0,1,1],[{\"id\":\"1142\"},0,1,1,1],[{\"id\":\"1143\"},0,2,1,1],[{\"id\":\"1144\"},1,0,1,1]],\"margin\":[0,0,0,0],\"name\":\"GridBox00246\"},\"id\":\"1140\",\"type\":\"GridBox\"},{\"attributes\":{\"margin\":[5,10,5,10],\"max_length\":5000,\"placeholder\":\"Published or web-based references that describe the data or methods used to produce it\",\"title\":\"references\"},\"id\":\"1135\",\"type\":\"TextAreaInput\"},{\"attributes\":{\"child\":{\"id\":\"1099\"},\"name\":\"Column00206\",\"title\":\"Contributor\"},\"id\":\"1105\",\"type\":\"Panel\"},{\"attributes\":{\"css_classes\":[\"markdown\"],\"margin\":[5,5,5,5],\"name\":\"Markdown00140\",\"text\":\"&lt;p&gt;&lt;em&gt;Suggested:&lt;/em&gt;&lt;/p&gt;\"},\"id\":\"1042\",\"type\":\"panel.models.markup.HTML\"},{\"attributes\":{\"children\":[{\"id\":\"1091\"},{\"id\":\"1092\"}],\"margin\":[0,0,0,0],\"name\":\"Column00198\"},\"id\":\"1090\",\"type\":\"Column\"}],\"root_ids\":[\"1002\",\"1146\",\"1147\"]},\"title\":\"Bokeh Application\",\"version\":\"2.4.3\"}};\n",
       "    var render_items = [{\"docid\":\"c8eb655a-43b8-4c19-b63d-4ec124a8e2e9\",\"root_ids\":[\"1002\"],\"roots\":{\"1002\":\"90894e2d-da58-4e38-990d-88023201ed15\"}}];\n",
       "    root.Bokeh.embed.embed_items_notebook(docs_json, render_items);\n",
       "  }\n",
       "  if (root.Bokeh !== undefined && root.Bokeh.Panel !== undefined) {\n",
       "    embed_document(root);\n",
       "  } else {\n",
       "    var attempts = 0;\n",
       "    var timer = setInterval(function(root) {\n",
       "      if (root.Bokeh !== undefined && root.Bokeh.Panel !== undefined) {\n",
       "        clearInterval(timer);\n",
       "        embed_document(root);\n",
       "      } else if (document.readyState == \"complete\") {\n",
       "        attempts++;\n",
       "        if (attempts > 200) {\n",
       "          clearInterval(timer);\n",
       "          console.log(\"Bokeh: ERROR: Unable to run BokehJS code because BokehJS library is missing\");\n",
       "        }\n",
       "      }\n",
       "    }, 25, root)\n",
       "  }\n",
       "})(window);</script>"
      ],
      "text/plain": [
       "Column\n",
       "    [0] Markdown(str)\n",
       "    [1] Row\n",
       "        [0] TextAreaInput(name='File path:', placeholder='Enter path string h...)\n",
       "        [1] Column\n",
       "            [0] Button(button_type='primary', height=25, name='Extract Metadata', sizing_mode='fixed', width=150)\n",
       "            [1] Button(button_type='primary', height=25, name='Update Metadata', sizing_mode='fixed', width=150)\n",
       "            [2] Button(button_type='primary', height=25, name='Export to JSON', sizing_mode='fixed', width=150)\n",
       "        [2] StaticText()\n",
       "    [2] Column\n",
       "        [0] Tabs\n",
       "            [0] Column\n",
       "                [0] Column\n",
       "                    [0] Markdown(str)\n",
       "                    [1] Row\n",
       "                        [0] TextAreaInput(name='Conventions', placeholder='Dataset conventions. E.g....)\n",
       "                [1] Column\n",
       "                    [0] Markdown(str)\n",
       "                    [1] GridBox(ncols=3)\n",
       "                        [0] TextAreaInput(name='id', placeholder='Globally unique i...)\n",
       "                        [1] TextAreaInput(name='naming_authority', placeholder='The organization t...)\n",
       "                [2] Column\n",
       "                    [0] Markdown(str)\n",
       "                    [1] GridBox(ncols=3)\n",
       "                        [0] TextAreaInput(name='metadata_link', placeholder='Link to a complete m...)\n",
       "            [1] Column\n",
       "                [0] Column\n",
       "                    [0] Markdown(str)\n",
       "                    [1] Row\n",
       "                        [0] TextAreaInput(name='title', placeholder='A short description o...)\n",
       "                        [1] TextAreaInput(name='summary', placeholder='A paragraph d...)\n",
       "                        [2] TextAreaInput(name='keywords', placeholder='A comma separated l...)\n",
       "                [1] Column\n",
       "                    [0] Markdown(str)\n",
       "                    [1] GridBox(ncols=3)\n",
       "                        [0] TextAreaInput(name='standard_name_vocabulary'..., placeholder='The name of t...)\n",
       "                        [1] TextAreaInput(name='history', placeholder='Provides an a...)\n",
       "                        [2] TextAreaInput(name='comment', placeholder='Miscellaneous i...)\n",
       "                [2] Column\n",
       "                    [0] Markdown(str)\n",
       "                    [1] GridBox(ncols=3)\n",
       "                        [0] TextAreaInput(name='keywords_vocabulary', placeholder='Unique name o...)\n",
       "            [2] Column\n",
       "                [0] Column\n",
       "                    [0] Markdown(str)\n",
       "                    [1] GridBox(ncols=3)\n",
       "                        [0] TextAreaInput(name='geospatial_lat_min', placeholder='Minimum latitude')\n",
       "                        [1] TextAreaInput(name='geospatial_lat_max', placeholder='Maximum latitude')\n",
       "                        [2] TextAreaInput(name='geospatial_lon_min', placeholder='Minimum longitude')\n",
       "                        [3] TextAreaInput(name='geospatial_lon_max', placeholder='Maximum longitude')\n",
       "                        [4] TextAreaInput(name='time_coverage_start', placeholder='Time of first d...)\n",
       "                        [5] TextAreaInput(name='time_coverage_end', placeholder='Time of last d...)\n",
       "                        [6] TextAreaInput(name='geospatial_vertical_min', placeholder='Minimum altitude')\n",
       "                        [7] TextAreaInput(name='geospatial_vertical_max', placeholder='Maximum altitude')\n",
       "            [3] Column\n",
       "                [0] Column\n",
       "                    [0] Markdown(str)\n",
       "                    [1] GridBox(ncols=3)\n",
       "                        [0] TextAreaInput(name='geospatial_bounds', placeholder='The north, south, ...)\n",
       "                        [1] TextAreaInput(name='geospatial_bounds_crs', placeholder='The coordinate r...)\n",
       "                        [2] TextAreaInput(name='geospatial_bounds_vertica..., placeholder='The vertical c...)\n",
       "                        [3] TextAreaInput(name='time_coverage_duration', placeholder='Duration of t...)\n",
       "                        [4] TextAreaInput(name='time_coverage_resolution'..., placeholder='Time period b...)\n",
       "                [1] Column\n",
       "                    [0] Markdown(str)\n",
       "                    [1] GridBox(ncols=3)\n",
       "                        [0] TextAreaInput(name='geospatial_lon_units', placeholder='Units for the l...)\n",
       "                        [1] TextAreaInput(name='geospatial_lon_resolution..., placeholder='Spacing of points i...)\n",
       "                        [2] TextAreaInput(name='geospatial_lat_units', placeholder='Units for the l...)\n",
       "                        [3] TextAreaInput(name='geospatial_lat_resolution..., placeholder='Spacing of points i...)\n",
       "                        [4] TextAreaInput(name='geospatial_vertical_units..., placeholder='Units for the v...)\n",
       "                        [5] TextAreaInput(name='geospatial_vertical_resol..., placeholder='Certical spacing o...)\n",
       "                        [6] TextAreaInput(name='geospatial_vertical_posit..., placeholder=\"Choose 'up' or 'down'\")\n",
       "            [4] Column\n",
       "                [0] Column\n",
       "                    [0] Markdown(str)\n",
       "                    [1] GridBox(ncols=3)\n",
       "                        [0] TextAreaInput(name='acknowledgment', placeholder='acknowledge v...)\n",
       "                        [1] TextAreaInput(name='creator_name', placeholder='Enter a string here...')\n",
       "                        [2] TextAreaInput(name='creator_url', placeholder='Enter a string here...')\n",
       "                        [3] TextAreaInput(name='creator_email', placeholder='Enter a string here...')\n",
       "                        [4] TextAreaInput(name='institution', placeholder='Enter a string here...')\n",
       "                        [5] TextAreaInput(name='date_created', placeholder='The date on w...)\n",
       "                        [6] TextAreaInput(name='project', placeholder='The scientific p...)\n",
       "                [1] Column\n",
       "                    [0] Markdown(str)\n",
       "                    [1] GridBox(ncols=3)\n",
       "                        [0] TextAreaInput(name='creator_institution', placeholder='Enter a string here...')\n",
       "                        [1] TextAreaInput(name='creator_type', placeholder=\"Choose 'person', ...)\n",
       "                        [2] TextAreaInput(name='date_modified', placeholder='The date on w...)\n",
       "                        [3] TextAreaInput(name='date_metadata_modified', placeholder='The date on w...)\n",
       "                        [4] TextAreaInput(name='date_issued', placeholder='The date on w...)\n",
       "            [5] Column\n",
       "                [0] Column\n",
       "                    [0] Markdown(str)\n",
       "                    [1] GridBox(ncols=3)\n",
       "                        [0] TextAreaInput(name='contributor_name', placeholder='Enter a string here...')\n",
       "                        [1] TextAreaInput(name='contributor_role', placeholder='Enter a string here...')\n",
       "            [6] Column\n",
       "                [0] Column\n",
       "                    [0] Markdown(str)\n",
       "                    [1] GridBox(ncols=3)\n",
       "                        [0] TextAreaInput(name='publisher_name', placeholder=\"The data publisher's n...)\n",
       "                        [1] TextAreaInput(name='publisher_url', placeholder=\"The data publisher's U...)\n",
       "                        [2] TextAreaInput(name='publisher_email', placeholder=\"The data publisher's e...)\n",
       "                [1] Column\n",
       "                    [0] Markdown(str)\n",
       "                    [1] GridBox(ncols=3)\n",
       "                        [0] TextAreaInput(name='publisher_type', placeholder=\"Choose 'person', ...)\n",
       "                        [1] TextAreaInput(name='publisher_institution', placeholder='Email address of those re...)\n",
       "            [7] Column\n",
       "                [0] Column\n",
       "                    [0] Markdown(str)\n",
       "                    [1] GridBox(ncols=3)\n",
       "                        [0] TextAreaInput(name='processing_level', placeholder='A textual description o...)\n",
       "                        [1] TextAreaInput(name='license', placeholder='Describe the r...)\n",
       "                        [2] TextAreaInput(name='source', placeholder='The method of p...)\n",
       "                [1] Column\n",
       "                    [0] Markdown(str)\n",
       "                    [1] GridBox(ncols=3)\n",
       "                        [0] TextAreaInput(name='cdm_data_type', placeholder='Dataset datatype')\n",
       "                        [1] TextAreaInput(name='instrument', placeholder='Name of the c...)\n",
       "                        [2] TextAreaInput(name='instrument_vocabulary', placeholder='Controlled vocabulary f...)\n",
       "                        [3] TextAreaInput(name='platform', placeholder='Name of the platform(s) E...)\n",
       "                        [4] TextAreaInput(name='product_version', placeholder='Version identifier o...)\n",
       "                        [5] TextAreaInput(name='program', placeholder='The overarching p...)\n",
       "                        [6] TextAreaInput(name='references', placeholder='Published or w...)\n",
       "            [8] Column\n",
       "                [0] Column\n",
       "                    [0] Markdown(str)\n",
       "                    [1] GridBox(ncols=3)\n",
       "                        [0] TextAreaInput(name='camera_exposure_time', placeholder='Exposure time f...)\n",
       "                        [1] TextAreaInput(name='camera_gain', placeholder='Gain used for t...)\n",
       "                        [2] TextAreaInput(name='camera_row_slice', placeholder='Which rows are e...)\n",
       "                        [3] TextAreaInput(name='camera_fwhm', placeholder='Full Width Half M...)"
      ]
     },
     "execution_count": null,
     "metadata": {
      "application/vnd.holoviews_exec.v0+json": {
       "id": "1002"
      }
     },
     "output_type": "execute_result"
    }
   ],
   "source": [
    "#| output: true\n",
    "\n",
    "me = MetadataEditor()\n",
    "me()"
   ]
  },
  {
   "cell_type": "code",
   "execution_count": null,
   "metadata": {},
   "outputs": [],
   "source": []
  }
 ],
 "metadata": {
  "kernelspec": {
   "display_name": "python3",
   "language": "python",
   "name": "python3"
  }
 },
 "nbformat": 4,
 "nbformat_minor": 4
}
