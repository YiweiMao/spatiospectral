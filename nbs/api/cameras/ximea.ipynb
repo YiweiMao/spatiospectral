{
 "cells": [
  {
   "cell_type": "raw",
   "metadata": {},
   "source": [
    "---\n",
    "description: Ximea Hardware cameras\n",
    "output-file: cameras-ximea.html\n",
    "title: Ximea\n",
    "\n",
    "---\n",
    "\n"
   ]
  },
  {
   "cell_type": "markdown",
   "metadata": {},
   "source": [
    "# OpenHSI Ximea Camera Implementations"
   ]
  },
  {
   "cell_type": "markdown",
   "metadata": {},
   "source": [
    ":::{.callout-tip}\n",
    "\n",
    "This module can be imported using `from openhsi.cameras import *`\n",
    "\n",
    ":::\n",
    "\n",
    "Wrapper class and example code for getting images from the OpenHSI.\n",
    "\n",
    ":::{.callout-tip}\n",
    "\n",
    "To use the camera, you will need some calibration files. You can also generate these files following this [guide](https://openhsi.github.io/openhsi/tutorial_calibrate.html) which uses the [`calibrate` module](https://openhsi.github.io/openhsi/calibrate.html).\n",
    "\n",
    ":::"
   ]
  },
  {
   "cell_type": "code",
   "execution_count": null,
   "metadata": {},
   "outputs": [],
   "source": [
    "#| hide\n",
    "\n",
    "# documentation extraction for class methods\n",
    "from nbdev.showdoc import *\n",
    "\n",
    "# unit tests using test_eq(...)\n",
    "from fastcore.test import *\n",
    "\n",
    "# monkey patching class methods using @patch\n",
    "from fastcore.foundation import *\n",
    "from fastcore.foundation import patch\n",
    "\n",
    "# imitation of Julia's multiple dispatch using @typedispatch\n",
    "from fastcore.dispatch import typedispatch\n",
    "\n",
    "# bring forth **kwargs from an inherited class for documentation\n",
    "from fastcore.meta import delegates\n",
    "\n",
    "# external\n",
    "import numpy as np\n",
    "import ctypes\n",
    "import matplotlib.pyplot as plt\n",
    "import warnings\n",
    "from tqdm import tqdm\n",
    "from functools import partial\n",
    "\n",
    "# internal\n",
    "from openhsi.capture import OpenHSI\n",
    "from openhsi.shared import SharedOpenHSI"
   ]
  },
  {
   "cell_type": "markdown",
   "metadata": {},
   "source": [
    "## XIMEA Camera\n",
    "\n",
    "Used for the OpenHSI Camera Mark I with a Ximea detetor (with IMX252 sensor, e.g. [MX031CG-SY](https://www.ximea.com/en/products/xilab-application-specific-custom-oem/embedded-vision-and-multi-camera-setup-xix/sony-imx252-fast-color-industrial-camera)). \n",
    "\n",
    "Make sure you install the Ximea API beforehand in the instructions https://www.ximea.com/support/wiki/apis/Python \n",
    "\n"
   ]
  },
  {
   "cell_type": "code",
   "execution_count": null,
   "metadata": {},
   "outputs": [],
   "source": [
    "#| export cameras\n",
    "\n",
    "@delegates()\n",
    "class XimeaCameraBase():\n",
    "        \n",
    "    \"\"\"Core functionality for Ximea cameras\"\"\"\n",
    "    # https://www.ximea.com/support/wiki/apis/Python\n",
    "    def __init__(self, exposure_ms:float = 10, serial_num:str = None, **kwargs):\n",
    "        \"\"\"Initialise Camera\"\"\"\n",
    "        \n",
    "        super().__init__(**kwargs)\n",
    "                    \n",
    "        from ximea import xiapi\n",
    "        self.xiapi=xiapi # make avalaible for later access just in case.\n",
    "        \n",
    "        self.xicam = self.xiapi.Camera()\n",
    "        \n",
    "        self.xicam.open_device_by_SN(serial_num) if serial_num else self.xicam.open_device()\n",
    "\n",
    "        print(f'Connected to device {self.xicam.get_device_sn()}')\n",
    "        \n",
    "        self.xicam.enable_horizontal_flip()\n",
    "\n",
    "        self.xicam.set_binning_vertical(self.settings[\"binxy\"][0])\n",
    "        self.xicam.set_binning_vertical_mode(\"XI_BIN_MODE_SUM\")\n",
    "\n",
    "        \n",
    "        # set window up.\n",
    "        self.xicam.set_height(self.settings[\"win_resolution\"][0] if self.settings[\"win_resolution\"][0] > 0 else self.xicam.get_height_maximum())\n",
    "        self.xicam.set_width(self.settings[\"win_resolution\"][1] if self.settings[\"win_resolution\"][1] > 0 else self.xicam.get_width_maximum())\n",
    "    \n",
    "        self.xicam.set_offsetY(self.settings[\"win_offset\"][0] if self.settings[\"win_offset\"][0] > 0 else self.xicam.get_offsetY_maximum())\n",
    "        self.xicam.set_offsetX(self.settings[\"win_offset\"][1] if self.settings[\"win_offset\"][1] > 0 else self.xicam.get_offsetX_maximum())\n",
    "        \n",
    "\n",
    "        self.set_exposure(self.settings[\"exposure_ms\"])\n",
    "        \n",
    "        self.xicam.set_gain_direct(0.0)\n",
    "\n",
    "        self.xicam.set_imgdataformat(self.settings[\"pixel_format\"])\n",
    "        if self.settings[\"pixel_format\"] == \"XI_RAW16\":\n",
    "            self.xicam.set_output_bit_depth(\"XI_BPP_12\")\n",
    "            self.xicam.enable_output_bit_packing()\n",
    "            \n",
    "        self.xicam.disable_aeag()\n",
    "        \n",
    "        self.rows, self.cols = self.xicam.get_height(), self.xicam.get_width()\n",
    "        self.img = xiapi.Image()\n",
    "        \n",
    "        \n",
    "    def __exit__(self, *args, **kwargs):\n",
    "        self.xicam.stop_acquisition()\n",
    "        self.xicam.close_device()\n",
    "        \n",
    "    def set_exposure(self,exposure_ms:float):\n",
    "            self.xicam.set_exposure_direct(1000*exposure_ms)\n",
    "            self.settings[\"exposure_ms\"] = self.xicam.get_exposure()/1000  # exposure time rounds, so storing actual value\n",
    "\n",
    "    def start_cam(self):\n",
    "        self.xicam.start_acquisition()\n",
    "    \n",
    "    def stop_cam(self):\n",
    "        self.xicam.stop_acquisition()\n",
    "    \n",
    "    def get_img(self) -> np.ndarray:\n",
    "        self.xicam.get_image(self.img)\n",
    "        return self.img.get_image_data_numpy()\n",
    "    \n",
    "    def get_temp(self) -> float:\n",
    "        return self.xicam.get_temp()\n",
    "\n",
    "@delegates()\n",
    "class XimeaCamera(XimeaCameraBase, OpenHSI):\n",
    "    pass"
   ]
  },
  {
   "cell_type": "code",
   "execution_count": null,
   "metadata": {},
   "outputs": [],
   "source": [
    "#| hardware\n",
    "\n",
    "def run_ximea():\n",
    "    with XimeaCamera(n_lines=128, exposure_ms=1, processing_lvl = -1, cal_path=\"\",json_path='../assets/cam_settings_ximea.json') as cam:\n",
    "        cam.start_cam()\n",
    "        for i in tqdm(range(cam.n_lines)):\n",
    "            cam.put(cam.get_img())\n",
    "        cam.stop_cam()\n",
    "\n",
    "%prun run_ximea()\n",
    "\n",
    "#fig = cam.show(robust=True)    \n",
    "#fig"
   ]
  },
  {
   "cell_type": "code",
   "execution_count": null,
   "metadata": {},
   "outputs": [
    {
     "name": "stdout",
     "output_type": "stream",
     "text": [
      "Allocated 251.56 MB of RAM. There was 12433.93 MB available.\n"
     ]
    },
    {
     "name": "stderr",
     "output_type": "stream",
     "text": [
      "xiAPI: ---- xiOpenDevice API:V4.27.07.00 started ----\n",
      "xiAPI: EAL_IF_xiFAPI_Top::InitializeDevice sn:CEMAU2105019 name:MC031MG-SY-UB\n",
      "xiAPI: FGTL_SetParam_to_CAL error from CAL: -1015, addr:x27317e\n",
      "xiAPI: XiApiToGentlParamModel Auto bandwidth measurement finished (396MBps). Safe limit set to: 317MBps\n",
      "xiAPI: FGTL_SetParam_to_CAL error from CAL: -10009, addr:x201380\n",
      "xiAPI: ---- Device opened. Model:MC031MG-SY-UB SN:CEMAU2105019 FwF1:01.31 API:V4.27.07.00 ----\n"
     ]
    },
    {
     "name": "stdout",
     "output_type": "stream",
     "text": [
      "Connected to device b'CEMAU2105019'\n"
     ]
    },
    {
     "name": "stderr",
     "output_type": "stream",
     "text": [
      "xiAPI: xiFAPI_Device::AllocateBuffers Allocating buffers. Count:346 OneBuff:756 KiB All:256 MiB Frm:x10c0047\n",
      "xiAPI: xiAPI error: Expected XI_OK in:../API/xiFAPI/camera_model/XiApiToGentlParamModel.cpp GetHDR/Line:622\n",
      "xiAPI: Failed to change thread scheduler, check user limit for realtime priority.\n",
      "100%|█████████████████████████████████████████████████████████████████████| 128/128 [00:00<00:00, 163.96it/s]\n",
      "xiAPI: xiFAPI_Device::AcquisitionStop - ignored: acquisition is not running\n",
      "xiAPI: xiCloseDevice\n"
     ]
    }
   ],
   "source": [
    "#| hardware\n",
    "\n",
    "with XimeaCamera(n_lines=128, exposure_ms=1, processing_lvl = -1, cal_path=\"\",json_path='../assets/cam_settings_ximea.json') as cam:\n",
    "    cam.collect()"
   ]
  },
  {
   "cell_type": "markdown",
   "metadata": {},
   "source": [
    "### Multiprocessing camera export\n",
    "\n",
    "Export cameras using the SharedOpenHSI class."
   ]
  },
  {
   "cell_type": "code",
   "execution_count": null,
   "metadata": {},
   "outputs": [],
   "source": [
    "#| export cameras\n",
    "\n",
    "@delegates()\n",
    "class SharedXimeaCamera(XimeaCameraBase, SharedOpenHSI):\n",
    "    pass"
   ]
  }
 ],
 "metadata": {
  "kernelspec": {
   "display_name": "python3",
   "language": "python",
   "name": "python3"
  }
 },
 "nbformat": 4,
 "nbformat_minor": 4
}
